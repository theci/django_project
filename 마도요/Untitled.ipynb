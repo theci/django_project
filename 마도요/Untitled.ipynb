{
 "cells": [
  {
   "cell_type": "code",
   "execution_count": 1,
   "id": "d158d793",
   "metadata": {},
   "outputs": [],
   "source": [
    "import os # 경고 대응\n",
    "os.environ['OMP_NUM_THREADS'] = '1'"
   ]
  },
  {
   "cell_type": "code",
   "execution_count": 2,
   "id": "1cd3ac3e",
   "metadata": {
    "scrolled": true
   },
   "outputs": [
    {
     "data": {
      "text/html": [
       "<div>\n",
       "<style scoped>\n",
       "    .dataframe tbody tr th:only-of-type {\n",
       "        vertical-align: middle;\n",
       "    }\n",
       "\n",
       "    .dataframe tbody tr th {\n",
       "        vertical-align: top;\n",
       "    }\n",
       "\n",
       "    .dataframe thead th {\n",
       "        text-align: right;\n",
       "    }\n",
       "</style>\n",
       "<table border=\"1\" class=\"dataframe\">\n",
       "  <thead>\n",
       "    <tr style=\"text-align: right;\">\n",
       "      <th></th>\n",
       "      <th>Unnamed: 0</th>\n",
       "      <th>5대범죄 건수 평균</th>\n",
       "      <th>인구밀도 평균</th>\n",
       "      <th>112신고 건수 평균</th>\n",
       "      <th>여성 가구원수 평균</th>\n",
       "      <th>cctv수 평균</th>\n",
       "      <th>가로등수 평균</th>\n",
       "    </tr>\n",
       "    <tr>\n",
       "      <th>지역</th>\n",
       "      <th></th>\n",
       "      <th></th>\n",
       "      <th></th>\n",
       "      <th></th>\n",
       "      <th></th>\n",
       "      <th></th>\n",
       "      <th></th>\n",
       "    </tr>\n",
       "  </thead>\n",
       "  <tbody>\n",
       "    <tr>\n",
       "      <th>강남구</th>\n",
       "      <td>0</td>\n",
       "      <td>7543.571429</td>\n",
       "      <td>6736.714286</td>\n",
       "      <td>170421.42860</td>\n",
       "      <td>261914.57140</td>\n",
       "      <td>869.857143</td>\n",
       "      <td>13837.285710</td>\n",
       "    </tr>\n",
       "    <tr>\n",
       "      <th>강동구</th>\n",
       "      <td>1</td>\n",
       "      <td>4163.714286</td>\n",
       "      <td>13509.142860</td>\n",
       "      <td>89579.71429</td>\n",
       "      <td>212260.00000</td>\n",
       "      <td>319.714286</td>\n",
       "      <td>7724.428571</td>\n",
       "    </tr>\n",
       "    <tr>\n",
       "      <th>강북구</th>\n",
       "      <td>2</td>\n",
       "      <td>3460.714286</td>\n",
       "      <td>11169.571430</td>\n",
       "      <td>74903.42857</td>\n",
       "      <td>154574.00000</td>\n",
       "      <td>428.428571</td>\n",
       "      <td>4388.285714</td>\n",
       "    </tr>\n",
       "    <tr>\n",
       "      <th>강서구</th>\n",
       "      <td>3</td>\n",
       "      <td>4862.000000</td>\n",
       "      <td>18163.000000</td>\n",
       "      <td>114848.00000</td>\n",
       "      <td>287358.85710</td>\n",
       "      <td>323.142857</td>\n",
       "      <td>7849.571429</td>\n",
       "    </tr>\n",
       "    <tr>\n",
       "      <th>관악구</th>\n",
       "      <td>4</td>\n",
       "      <td>5372.428571</td>\n",
       "      <td>21519.571430</td>\n",
       "      <td>112705.00000</td>\n",
       "      <td>253621.85710</td>\n",
       "      <td>536.428571</td>\n",
       "      <td>5190.142857</td>\n",
       "    </tr>\n",
       "    <tr>\n",
       "      <th>광진구</th>\n",
       "      <td>5</td>\n",
       "      <td>4355.857143</td>\n",
       "      <td>25591.714290</td>\n",
       "      <td>86648.57143</td>\n",
       "      <td>181476.85710</td>\n",
       "      <td>404.571429</td>\n",
       "      <td>4857.142857</td>\n",
       "    </tr>\n",
       "    <tr>\n",
       "      <th>구로구</th>\n",
       "      <td>6</td>\n",
       "      <td>4726.428571</td>\n",
       "      <td>22002.714290</td>\n",
       "      <td>86006.57143</td>\n",
       "      <td>212753.42860</td>\n",
       "      <td>429.142857</td>\n",
       "      <td>7669.285714</td>\n",
       "    </tr>\n",
       "    <tr>\n",
       "      <th>금천구</th>\n",
       "      <td>7</td>\n",
       "      <td>3160.857143</td>\n",
       "      <td>18462.857140</td>\n",
       "      <td>63704.28571</td>\n",
       "      <td>120722.14290</td>\n",
       "      <td>308.142857</td>\n",
       "      <td>5243.000000</td>\n",
       "    </tr>\n",
       "    <tr>\n",
       "      <th>노원구</th>\n",
       "      <td>8</td>\n",
       "      <td>4172.857143</td>\n",
       "      <td>13607.428570</td>\n",
       "      <td>89983.42857</td>\n",
       "      <td>265683.71430</td>\n",
       "      <td>309.142857</td>\n",
       "      <td>9302.285714</td>\n",
       "    </tr>\n",
       "    <tr>\n",
       "      <th>도봉구</th>\n",
       "      <td>9</td>\n",
       "      <td>2214.142857</td>\n",
       "      <td>16407.000000</td>\n",
       "      <td>54898.85714</td>\n",
       "      <td>162298.71430</td>\n",
       "      <td>233.285714</td>\n",
       "      <td>4499.000000</td>\n",
       "    </tr>\n",
       "    <tr>\n",
       "      <th>동대문구</th>\n",
       "      <td>10</td>\n",
       "      <td>3887.714286</td>\n",
       "      <td>15459.428570</td>\n",
       "      <td>28858.42857</td>\n",
       "      <td>177716.14290</td>\n",
       "      <td>370.571429</td>\n",
       "      <td>8152.285714</td>\n",
       "    </tr>\n",
       "    <tr>\n",
       "      <th>동작구</th>\n",
       "      <td>11</td>\n",
       "      <td>3280.285714</td>\n",
       "      <td>16460.857140</td>\n",
       "      <td>69205.42857</td>\n",
       "      <td>199861.57140</td>\n",
       "      <td>244.714286</td>\n",
       "      <td>5542.857143</td>\n",
       "    </tr>\n",
       "    <tr>\n",
       "      <th>마포구</th>\n",
       "      <td>12</td>\n",
       "      <td>4892.428571</td>\n",
       "      <td>18313.285710</td>\n",
       "      <td>107486.28570</td>\n",
       "      <td>190437.28570</td>\n",
       "      <td>328.857143</td>\n",
       "      <td>8084.571429</td>\n",
       "    </tr>\n",
       "    <tr>\n",
       "      <th>서대문구</th>\n",
       "      <td>13</td>\n",
       "      <td>3051.857143</td>\n",
       "      <td>16220.285710</td>\n",
       "      <td>64242.42857</td>\n",
       "      <td>162843.14290</td>\n",
       "      <td>258.428571</td>\n",
       "      <td>5910.142857</td>\n",
       "    </tr>\n",
       "    <tr>\n",
       "      <th>서초구</th>\n",
       "      <td>14</td>\n",
       "      <td>4809.428571</td>\n",
       "      <td>26957.714290</td>\n",
       "      <td>98123.57143</td>\n",
       "      <td>205641.28570</td>\n",
       "      <td>550.285714</td>\n",
       "      <td>12161.285710</td>\n",
       "    </tr>\n",
       "    <tr>\n",
       "      <th>성동구</th>\n",
       "      <td>15</td>\n",
       "      <td>2656.285714</td>\n",
       "      <td>14388.142860</td>\n",
       "      <td>57321.42857</td>\n",
       "      <td>147371.14290</td>\n",
       "      <td>458.142857</td>\n",
       "      <td>5860.714286</td>\n",
       "    </tr>\n",
       "    <tr>\n",
       "      <th>성북구</th>\n",
       "      <td>16</td>\n",
       "      <td>3175.571429</td>\n",
       "      <td>21849.714290</td>\n",
       "      <td>75245.14286</td>\n",
       "      <td>223697.42860</td>\n",
       "      <td>577.714286</td>\n",
       "      <td>5478.000000</td>\n",
       "    </tr>\n",
       "    <tr>\n",
       "      <th>송파구</th>\n",
       "      <td>17</td>\n",
       "      <td>5724.714286</td>\n",
       "      <td>19342.571430</td>\n",
       "      <td>127502.57140</td>\n",
       "      <td>317456.42860</td>\n",
       "      <td>374.714286</td>\n",
       "      <td>13093.428570</td>\n",
       "    </tr>\n",
       "    <tr>\n",
       "      <th>양천구</th>\n",
       "      <td>18</td>\n",
       "      <td>3640.285714</td>\n",
       "      <td>16527.714290</td>\n",
       "      <td>74413.28571</td>\n",
       "      <td>219399.57140</td>\n",
       "      <td>444.714286</td>\n",
       "      <td>7816.571429</td>\n",
       "    </tr>\n",
       "    <tr>\n",
       "      <th>영등포구</th>\n",
       "      <td>19</td>\n",
       "      <td>5744.857143</td>\n",
       "      <td>24884.285710</td>\n",
       "      <td>113342.14290</td>\n",
       "      <td>195884.14290</td>\n",
       "      <td>426.714286</td>\n",
       "      <td>9287.285714</td>\n",
       "    </tr>\n",
       "    <tr>\n",
       "      <th>용산구</th>\n",
       "      <td>20</td>\n",
       "      <td>3441.571429</td>\n",
       "      <td>17499.857140</td>\n",
       "      <td>73440.85714</td>\n",
       "      <td>113818.57140</td>\n",
       "      <td>306.714286</td>\n",
       "      <td>7433.571429</td>\n",
       "    </tr>\n",
       "    <tr>\n",
       "      <th>은평구</th>\n",
       "      <td>21</td>\n",
       "      <td>3890.428571</td>\n",
       "      <td>9324.000000</td>\n",
       "      <td>86552.28571</td>\n",
       "      <td>233652.42860</td>\n",
       "      <td>534.000000</td>\n",
       "      <td>6441.285714</td>\n",
       "    </tr>\n",
       "    <tr>\n",
       "      <th>종로구</th>\n",
       "      <td>22</td>\n",
       "      <td>3795.857143</td>\n",
       "      <td>14084.571430</td>\n",
       "      <td>74265.71429</td>\n",
       "      <td>77940.71429</td>\n",
       "      <td>100.714286</td>\n",
       "      <td>8887.428571</td>\n",
       "    </tr>\n",
       "    <tr>\n",
       "      <th>중구</th>\n",
       "      <td>23</td>\n",
       "      <td>4050.142857</td>\n",
       "      <td>19811.428570</td>\n",
       "      <td>128958.71430</td>\n",
       "      <td>65017.00000</td>\n",
       "      <td>307.571429</td>\n",
       "      <td>8634.428571</td>\n",
       "    </tr>\n",
       "    <tr>\n",
       "      <th>중랑구</th>\n",
       "      <td>24</td>\n",
       "      <td>4328.142857</td>\n",
       "      <td>18328.714290</td>\n",
       "      <td>87161.00000</td>\n",
       "      <td>193835.57140</td>\n",
       "      <td>435.000000</td>\n",
       "      <td>5947.142857</td>\n",
       "    </tr>\n",
       "  </tbody>\n",
       "</table>\n",
       "</div>"
      ],
      "text/plain": [
       "      Unnamed: 0   5대범죄 건수 평균       인구밀도 평균   112신고 건수 평균    여성 가구원수 평균  \\\n",
       "지역                                                                        \n",
       "강남구            0  7543.571429   6736.714286  170421.42860  261914.57140   \n",
       "강동구            1  4163.714286  13509.142860   89579.71429  212260.00000   \n",
       "강북구            2  3460.714286  11169.571430   74903.42857  154574.00000   \n",
       "강서구            3  4862.000000  18163.000000  114848.00000  287358.85710   \n",
       "관악구            4  5372.428571  21519.571430  112705.00000  253621.85710   \n",
       "광진구            5  4355.857143  25591.714290   86648.57143  181476.85710   \n",
       "구로구            6  4726.428571  22002.714290   86006.57143  212753.42860   \n",
       "금천구            7  3160.857143  18462.857140   63704.28571  120722.14290   \n",
       "노원구            8  4172.857143  13607.428570   89983.42857  265683.71430   \n",
       "도봉구            9  2214.142857  16407.000000   54898.85714  162298.71430   \n",
       "동대문구          10  3887.714286  15459.428570   28858.42857  177716.14290   \n",
       "동작구           11  3280.285714  16460.857140   69205.42857  199861.57140   \n",
       "마포구           12  4892.428571  18313.285710  107486.28570  190437.28570   \n",
       "서대문구          13  3051.857143  16220.285710   64242.42857  162843.14290   \n",
       "서초구           14  4809.428571  26957.714290   98123.57143  205641.28570   \n",
       "성동구           15  2656.285714  14388.142860   57321.42857  147371.14290   \n",
       "성북구           16  3175.571429  21849.714290   75245.14286  223697.42860   \n",
       "송파구           17  5724.714286  19342.571430  127502.57140  317456.42860   \n",
       "양천구           18  3640.285714  16527.714290   74413.28571  219399.57140   \n",
       "영등포구          19  5744.857143  24884.285710  113342.14290  195884.14290   \n",
       "용산구           20  3441.571429  17499.857140   73440.85714  113818.57140   \n",
       "은평구           21  3890.428571   9324.000000   86552.28571  233652.42860   \n",
       "종로구           22  3795.857143  14084.571430   74265.71429   77940.71429   \n",
       "중구            23  4050.142857  19811.428570  128958.71430   65017.00000   \n",
       "중랑구           24  4328.142857  18328.714290   87161.00000  193835.57140   \n",
       "\n",
       "        cctv수 평균       가로등수 평균  \n",
       "지역                              \n",
       "강남구   869.857143  13837.285710  \n",
       "강동구   319.714286   7724.428571  \n",
       "강북구   428.428571   4388.285714  \n",
       "강서구   323.142857   7849.571429  \n",
       "관악구   536.428571   5190.142857  \n",
       "광진구   404.571429   4857.142857  \n",
       "구로구   429.142857   7669.285714  \n",
       "금천구   308.142857   5243.000000  \n",
       "노원구   309.142857   9302.285714  \n",
       "도봉구   233.285714   4499.000000  \n",
       "동대문구  370.571429   8152.285714  \n",
       "동작구   244.714286   5542.857143  \n",
       "마포구   328.857143   8084.571429  \n",
       "서대문구  258.428571   5910.142857  \n",
       "서초구   550.285714  12161.285710  \n",
       "성동구   458.142857   5860.714286  \n",
       "성북구   577.714286   5478.000000  \n",
       "송파구   374.714286  13093.428570  \n",
       "양천구   444.714286   7816.571429  \n",
       "영등포구  426.714286   9287.285714  \n",
       "용산구   306.714286   7433.571429  \n",
       "은평구   534.000000   6441.285714  \n",
       "종로구   100.714286   8887.428571  \n",
       "중구    307.571429   8634.428571  \n",
       "중랑구   435.000000   5947.142857  "
      ]
     },
     "execution_count": 2,
     "metadata": {},
     "output_type": "execute_result"
    }
   ],
   "source": [
    "import pandas as pd\n",
    "import numpy as np\n",
    "import matplotlib.pyplot as plt\n",
    "import matplotlib\n",
    "import seaborn as sns\n",
    "\n",
    "\n",
    "matplotlib.rcParams['font.family']='Malgun Gothic'  # 한글 표시\n",
    "matplotlib.rcParams['font.size']=15\n",
    "matplotlib.rcParams['axes.unicode_minus']=False\n",
    "df = pd.read_csv(\"cal112_kind_of_average.csv\",index_col=\"지역\")\n",
    "\n",
    "df"
   ]
  },
  {
   "cell_type": "code",
   "execution_count": 3,
   "id": "e064cfb7",
   "metadata": {},
   "outputs": [
    {
     "data": {
      "text/html": [
       "<div>\n",
       "<style scoped>\n",
       "    .dataframe tbody tr th:only-of-type {\n",
       "        vertical-align: middle;\n",
       "    }\n",
       "\n",
       "    .dataframe tbody tr th {\n",
       "        vertical-align: top;\n",
       "    }\n",
       "\n",
       "    .dataframe thead th {\n",
       "        text-align: right;\n",
       "    }\n",
       "</style>\n",
       "<table border=\"1\" class=\"dataframe\">\n",
       "  <thead>\n",
       "    <tr style=\"text-align: right;\">\n",
       "      <th></th>\n",
       "      <th>5대범죄 건수 평균</th>\n",
       "      <th>인구밀도 평균</th>\n",
       "      <th>112신고 건수 평균</th>\n",
       "      <th>여성 가구원수 평균</th>\n",
       "      <th>cctv수 평균</th>\n",
       "      <th>가로등수 평균</th>\n",
       "    </tr>\n",
       "    <tr>\n",
       "      <th>지역</th>\n",
       "      <th></th>\n",
       "      <th></th>\n",
       "      <th></th>\n",
       "      <th></th>\n",
       "      <th></th>\n",
       "      <th></th>\n",
       "    </tr>\n",
       "  </thead>\n",
       "  <tbody>\n",
       "    <tr>\n",
       "      <th>강남구</th>\n",
       "      <td>7543.571429</td>\n",
       "      <td>6736.714286</td>\n",
       "      <td>170421.42860</td>\n",
       "      <td>261914.57140</td>\n",
       "      <td>869.857143</td>\n",
       "      <td>13837.285710</td>\n",
       "    </tr>\n",
       "    <tr>\n",
       "      <th>강동구</th>\n",
       "      <td>4163.714286</td>\n",
       "      <td>13509.142860</td>\n",
       "      <td>89579.71429</td>\n",
       "      <td>212260.00000</td>\n",
       "      <td>319.714286</td>\n",
       "      <td>7724.428571</td>\n",
       "    </tr>\n",
       "    <tr>\n",
       "      <th>강북구</th>\n",
       "      <td>3460.714286</td>\n",
       "      <td>11169.571430</td>\n",
       "      <td>74903.42857</td>\n",
       "      <td>154574.00000</td>\n",
       "      <td>428.428571</td>\n",
       "      <td>4388.285714</td>\n",
       "    </tr>\n",
       "    <tr>\n",
       "      <th>강서구</th>\n",
       "      <td>4862.000000</td>\n",
       "      <td>18163.000000</td>\n",
       "      <td>114848.00000</td>\n",
       "      <td>287358.85710</td>\n",
       "      <td>323.142857</td>\n",
       "      <td>7849.571429</td>\n",
       "    </tr>\n",
       "    <tr>\n",
       "      <th>관악구</th>\n",
       "      <td>5372.428571</td>\n",
       "      <td>21519.571430</td>\n",
       "      <td>112705.00000</td>\n",
       "      <td>253621.85710</td>\n",
       "      <td>536.428571</td>\n",
       "      <td>5190.142857</td>\n",
       "    </tr>\n",
       "    <tr>\n",
       "      <th>광진구</th>\n",
       "      <td>4355.857143</td>\n",
       "      <td>25591.714290</td>\n",
       "      <td>86648.57143</td>\n",
       "      <td>181476.85710</td>\n",
       "      <td>404.571429</td>\n",
       "      <td>4857.142857</td>\n",
       "    </tr>\n",
       "    <tr>\n",
       "      <th>구로구</th>\n",
       "      <td>4726.428571</td>\n",
       "      <td>22002.714290</td>\n",
       "      <td>86006.57143</td>\n",
       "      <td>212753.42860</td>\n",
       "      <td>429.142857</td>\n",
       "      <td>7669.285714</td>\n",
       "    </tr>\n",
       "    <tr>\n",
       "      <th>금천구</th>\n",
       "      <td>3160.857143</td>\n",
       "      <td>18462.857140</td>\n",
       "      <td>63704.28571</td>\n",
       "      <td>120722.14290</td>\n",
       "      <td>308.142857</td>\n",
       "      <td>5243.000000</td>\n",
       "    </tr>\n",
       "    <tr>\n",
       "      <th>노원구</th>\n",
       "      <td>4172.857143</td>\n",
       "      <td>13607.428570</td>\n",
       "      <td>89983.42857</td>\n",
       "      <td>265683.71430</td>\n",
       "      <td>309.142857</td>\n",
       "      <td>9302.285714</td>\n",
       "    </tr>\n",
       "    <tr>\n",
       "      <th>도봉구</th>\n",
       "      <td>2214.142857</td>\n",
       "      <td>16407.000000</td>\n",
       "      <td>54898.85714</td>\n",
       "      <td>162298.71430</td>\n",
       "      <td>233.285714</td>\n",
       "      <td>4499.000000</td>\n",
       "    </tr>\n",
       "    <tr>\n",
       "      <th>동대문구</th>\n",
       "      <td>3887.714286</td>\n",
       "      <td>15459.428570</td>\n",
       "      <td>28858.42857</td>\n",
       "      <td>177716.14290</td>\n",
       "      <td>370.571429</td>\n",
       "      <td>8152.285714</td>\n",
       "    </tr>\n",
       "    <tr>\n",
       "      <th>동작구</th>\n",
       "      <td>3280.285714</td>\n",
       "      <td>16460.857140</td>\n",
       "      <td>69205.42857</td>\n",
       "      <td>199861.57140</td>\n",
       "      <td>244.714286</td>\n",
       "      <td>5542.857143</td>\n",
       "    </tr>\n",
       "    <tr>\n",
       "      <th>마포구</th>\n",
       "      <td>4892.428571</td>\n",
       "      <td>18313.285710</td>\n",
       "      <td>107486.28570</td>\n",
       "      <td>190437.28570</td>\n",
       "      <td>328.857143</td>\n",
       "      <td>8084.571429</td>\n",
       "    </tr>\n",
       "    <tr>\n",
       "      <th>서대문구</th>\n",
       "      <td>3051.857143</td>\n",
       "      <td>16220.285710</td>\n",
       "      <td>64242.42857</td>\n",
       "      <td>162843.14290</td>\n",
       "      <td>258.428571</td>\n",
       "      <td>5910.142857</td>\n",
       "    </tr>\n",
       "    <tr>\n",
       "      <th>서초구</th>\n",
       "      <td>4809.428571</td>\n",
       "      <td>26957.714290</td>\n",
       "      <td>98123.57143</td>\n",
       "      <td>205641.28570</td>\n",
       "      <td>550.285714</td>\n",
       "      <td>12161.285710</td>\n",
       "    </tr>\n",
       "    <tr>\n",
       "      <th>성동구</th>\n",
       "      <td>2656.285714</td>\n",
       "      <td>14388.142860</td>\n",
       "      <td>57321.42857</td>\n",
       "      <td>147371.14290</td>\n",
       "      <td>458.142857</td>\n",
       "      <td>5860.714286</td>\n",
       "    </tr>\n",
       "    <tr>\n",
       "      <th>성북구</th>\n",
       "      <td>3175.571429</td>\n",
       "      <td>21849.714290</td>\n",
       "      <td>75245.14286</td>\n",
       "      <td>223697.42860</td>\n",
       "      <td>577.714286</td>\n",
       "      <td>5478.000000</td>\n",
       "    </tr>\n",
       "    <tr>\n",
       "      <th>송파구</th>\n",
       "      <td>5724.714286</td>\n",
       "      <td>19342.571430</td>\n",
       "      <td>127502.57140</td>\n",
       "      <td>317456.42860</td>\n",
       "      <td>374.714286</td>\n",
       "      <td>13093.428570</td>\n",
       "    </tr>\n",
       "    <tr>\n",
       "      <th>양천구</th>\n",
       "      <td>3640.285714</td>\n",
       "      <td>16527.714290</td>\n",
       "      <td>74413.28571</td>\n",
       "      <td>219399.57140</td>\n",
       "      <td>444.714286</td>\n",
       "      <td>7816.571429</td>\n",
       "    </tr>\n",
       "    <tr>\n",
       "      <th>영등포구</th>\n",
       "      <td>5744.857143</td>\n",
       "      <td>24884.285710</td>\n",
       "      <td>113342.14290</td>\n",
       "      <td>195884.14290</td>\n",
       "      <td>426.714286</td>\n",
       "      <td>9287.285714</td>\n",
       "    </tr>\n",
       "    <tr>\n",
       "      <th>용산구</th>\n",
       "      <td>3441.571429</td>\n",
       "      <td>17499.857140</td>\n",
       "      <td>73440.85714</td>\n",
       "      <td>113818.57140</td>\n",
       "      <td>306.714286</td>\n",
       "      <td>7433.571429</td>\n",
       "    </tr>\n",
       "    <tr>\n",
       "      <th>은평구</th>\n",
       "      <td>3890.428571</td>\n",
       "      <td>9324.000000</td>\n",
       "      <td>86552.28571</td>\n",
       "      <td>233652.42860</td>\n",
       "      <td>534.000000</td>\n",
       "      <td>6441.285714</td>\n",
       "    </tr>\n",
       "    <tr>\n",
       "      <th>종로구</th>\n",
       "      <td>3795.857143</td>\n",
       "      <td>14084.571430</td>\n",
       "      <td>74265.71429</td>\n",
       "      <td>77940.71429</td>\n",
       "      <td>100.714286</td>\n",
       "      <td>8887.428571</td>\n",
       "    </tr>\n",
       "    <tr>\n",
       "      <th>중구</th>\n",
       "      <td>4050.142857</td>\n",
       "      <td>19811.428570</td>\n",
       "      <td>128958.71430</td>\n",
       "      <td>65017.00000</td>\n",
       "      <td>307.571429</td>\n",
       "      <td>8634.428571</td>\n",
       "    </tr>\n",
       "    <tr>\n",
       "      <th>중랑구</th>\n",
       "      <td>4328.142857</td>\n",
       "      <td>18328.714290</td>\n",
       "      <td>87161.00000</td>\n",
       "      <td>193835.57140</td>\n",
       "      <td>435.000000</td>\n",
       "      <td>5947.142857</td>\n",
       "    </tr>\n",
       "  </tbody>\n",
       "</table>\n",
       "</div>"
      ],
      "text/plain": [
       "       5대범죄 건수 평균       인구밀도 평균   112신고 건수 평균    여성 가구원수 평균    cctv수 평균  \\\n",
       "지역                                                                        \n",
       "강남구   7543.571429   6736.714286  170421.42860  261914.57140  869.857143   \n",
       "강동구   4163.714286  13509.142860   89579.71429  212260.00000  319.714286   \n",
       "강북구   3460.714286  11169.571430   74903.42857  154574.00000  428.428571   \n",
       "강서구   4862.000000  18163.000000  114848.00000  287358.85710  323.142857   \n",
       "관악구   5372.428571  21519.571430  112705.00000  253621.85710  536.428571   \n",
       "광진구   4355.857143  25591.714290   86648.57143  181476.85710  404.571429   \n",
       "구로구   4726.428571  22002.714290   86006.57143  212753.42860  429.142857   \n",
       "금천구   3160.857143  18462.857140   63704.28571  120722.14290  308.142857   \n",
       "노원구   4172.857143  13607.428570   89983.42857  265683.71430  309.142857   \n",
       "도봉구   2214.142857  16407.000000   54898.85714  162298.71430  233.285714   \n",
       "동대문구  3887.714286  15459.428570   28858.42857  177716.14290  370.571429   \n",
       "동작구   3280.285714  16460.857140   69205.42857  199861.57140  244.714286   \n",
       "마포구   4892.428571  18313.285710  107486.28570  190437.28570  328.857143   \n",
       "서대문구  3051.857143  16220.285710   64242.42857  162843.14290  258.428571   \n",
       "서초구   4809.428571  26957.714290   98123.57143  205641.28570  550.285714   \n",
       "성동구   2656.285714  14388.142860   57321.42857  147371.14290  458.142857   \n",
       "성북구   3175.571429  21849.714290   75245.14286  223697.42860  577.714286   \n",
       "송파구   5724.714286  19342.571430  127502.57140  317456.42860  374.714286   \n",
       "양천구   3640.285714  16527.714290   74413.28571  219399.57140  444.714286   \n",
       "영등포구  5744.857143  24884.285710  113342.14290  195884.14290  426.714286   \n",
       "용산구   3441.571429  17499.857140   73440.85714  113818.57140  306.714286   \n",
       "은평구   3890.428571   9324.000000   86552.28571  233652.42860  534.000000   \n",
       "종로구   3795.857143  14084.571430   74265.71429   77940.71429  100.714286   \n",
       "중구    4050.142857  19811.428570  128958.71430   65017.00000  307.571429   \n",
       "중랑구   4328.142857  18328.714290   87161.00000  193835.57140  435.000000   \n",
       "\n",
       "           가로등수 평균  \n",
       "지역                  \n",
       "강남구   13837.285710  \n",
       "강동구    7724.428571  \n",
       "강북구    4388.285714  \n",
       "강서구    7849.571429  \n",
       "관악구    5190.142857  \n",
       "광진구    4857.142857  \n",
       "구로구    7669.285714  \n",
       "금천구    5243.000000  \n",
       "노원구    9302.285714  \n",
       "도봉구    4499.000000  \n",
       "동대문구   8152.285714  \n",
       "동작구    5542.857143  \n",
       "마포구    8084.571429  \n",
       "서대문구   5910.142857  \n",
       "서초구   12161.285710  \n",
       "성동구    5860.714286  \n",
       "성북구    5478.000000  \n",
       "송파구   13093.428570  \n",
       "양천구    7816.571429  \n",
       "영등포구   9287.285714  \n",
       "용산구    7433.571429  \n",
       "은평구    6441.285714  \n",
       "종로구    8887.428571  \n",
       "중구     8634.428571  \n",
       "중랑구    5947.142857  "
      ]
     },
     "execution_count": 3,
     "metadata": {},
     "output_type": "execute_result"
    }
   ],
   "source": [
    "df1 = df.drop(['Unnamed: 0'], axis=1)\n",
    "df1"
   ]
  },
  {
   "cell_type": "code",
   "execution_count": 4,
   "id": "280fece2",
   "metadata": {},
   "outputs": [],
   "source": [
    "X = df1.iloc[:, :].values"
   ]
  },
  {
   "cell_type": "code",
   "execution_count": 5,
   "id": "96a8a591",
   "metadata": {
    "scrolled": true
   },
   "outputs": [
    {
     "data": {
      "text/plain": [
       "<matplotlib.collections.PathCollection at 0x20568b8c6a0>"
      ]
     },
     "execution_count": 5,
     "metadata": {},
     "output_type": "execute_result"
    },
    {
     "data": {
      "image/png": "[encoded data removed]",
      "text/plain": [
       "<Figure size 432x288 with 1 Axes>"
      ]
     },
     "metadata": {
      "needs_background": "light"
     },
     "output_type": "display_data"
    }
   ],
   "source": [
    "plt.scatter(X[:, 0], X[:, 2]) # x축 : 5대범죄, y축 : 112 신고건수"
   ]
  },
  {
   "cell_type": "code",
   "execution_count": 6,
   "id": "8d80401d",
   "metadata": {},
   "outputs": [
    {
     "data": {
      "image/png": "[encoded data removed]",
      "text/plain": [
       "<Figure size 432x288 with 1 Axes>"
      ]
     },
     "metadata": {
      "needs_background": "light"
     },
     "output_type": "display_data"
    }
   ],
   "source": [
    "# 축 범위 통일\n",
    "plt.scatter(X[:, 0], X[:, 2]) # x축 : hour, y축 : score\n",
    "plt.xlim(0, 175000)\n",
    "plt.ylim(0, 175000)\n",
    "plt.show()"
   ]
  },
  {
   "cell_type": "code",
   "execution_count": 7,
   "id": "1a9745a8",
   "metadata": {},
   "outputs": [
    {
     "data": {
      "text/plain": [
       "array([[ 3.0098363 , -2.2658431 ,  2.86736173,  1.14514452,  3.24658913,\n",
       "         2.50390165],\n",
       "       [-0.0110575 , -0.8354733 ,  0.0414913 ,  0.31413874, -0.51653835,\n",
       "         0.06105128],\n",
       "       [-0.63939422, -1.32960215, -0.47152704, -0.65127889,  0.22709707,\n",
       "        -1.27215472],\n",
       "       [ 0.61306562,  0.14744392,  0.92475932,  1.57097335, -0.49308599,\n",
       "         0.11106149],\n",
       "       [ 1.06928328,  0.8563681 ,  0.84984948,  1.00635984,  0.96584659,\n",
       "        -0.95171258]])"
      ]
     },
     "execution_count": 7,
     "metadata": {},
     "output_type": "execute_result"
    }
   ],
   "source": [
    "from sklearn.preprocessing import StandardScaler\n",
    "sc = StandardScaler()\n",
    "X = sc.fit_transform(X)\n",
    "X[:5]"
   ]
  },
  {
   "cell_type": "code",
   "execution_count": 8,
   "id": "6a8eb187",
   "metadata": {},
   "outputs": [
    {
     "data": {
      "text/plain": [
       "<matplotlib.collections.PathCollection at 0x20568fa9b50>"
      ]
     },
     "execution_count": 8,
     "metadata": {},
     "output_type": "execute_result"
    },
    {
     "data": {
      "image/png": "[encoded data removed]",
      "text/plain": [
       "<Figure size 360x360 with 1 Axes>"
      ]
     },
     "metadata": {
      "needs_background": "light"
     },
     "output_type": "display_data"
    }
   ],
   "source": [
    "plt.figure(figsize=(5, 5))\n",
    "plt.scatter(X[:, 0], X[:, 2])"
   ]
  },
  {
   "cell_type": "code",
   "execution_count": 9,
   "id": "82f6b20d",
   "metadata": {},
   "outputs": [
    {
     "data": {
      "image/png": "[encoded data removed]",
      "text/plain": [
       "<Figure size 432x288 with 1 Axes>"
      ]
     },
     "metadata": {
      "needs_background": "light"
     },
     "output_type": "display_data"
    }
   ],
   "source": [
    "#최적의 K 값 찾기 (엘보우 방식 Elbow Method\n",
    "from sklearn.cluster import KMeans\n",
    "inertia_list = []\n",
    "for i in range(1, 11):\n",
    "    kmeans = KMeans(n_clusters=i, init='k-means++', random_state=0)\n",
    "    kmeans.fit(X)\n",
    "    inertia_list.append(kmeans.inertia_) # 각 지점으로부터 클러스터의 중심(centroid) 까지의 거리의 제곱의 합\n",
    "    \n",
    "plt.plot(range(1, 11), inertia_list)\n",
    "plt.title('Elbow Method')\n",
    "plt.xlabel('n_clusters')\n",
    "plt.ylabel('inertia')\n",
    "plt.show()"
   ]
  },
  {
   "cell_type": "code",
   "execution_count": 20,
   "id": "62da4d8d",
   "metadata": {},
   "outputs": [
    {
     "data": {
      "text/plain": [
       "array([0, 2, 1, 2, 2, 2, 2, 1, 2, 1, 1, 1, 2, 1, 3, 1, 2, 3, 2, 3, 1, 2,\n",
       "       1, 2, 2])"
      ]
     },
     "execution_count": 20,
     "metadata": {},
     "output_type": "execute_result"
    }
   ],
   "source": [
    "#최적의 K (4) 값으로 KMeans 학습\n",
    "K = 4 # 최적의 K 값\n",
    "kmeans = KMeans(n_clusters=K, random_state=0)\n",
    "# kmeans.fit(X)\n",
    "y_kmeans = kmeans.fit_predict(X)\n",
    "y_kmeans"
   ]
  },
  {
   "cell_type": "code",
   "execution_count": 21,
   "id": "cbeb33e3",
   "metadata": {
    "scrolled": true
   },
   "outputs": [
    {
     "data": {
      "text/plain": [
       "array([[ 3.0098363 , -2.2658431 ,  2.86736173,  1.14514452,  3.24658913,\n",
       "         2.50390165],\n",
       "       [-0.85759329, -0.39968058, -0.91154034, -0.78892075, -0.6444406 ,\n",
       "        -0.54294064],\n",
       "       [ 0.11300953,  0.1578709 ,  0.22976048,  0.30308479,  0.11814129,\n",
       "        -0.19531766],\n",
       "       [ 1.11746299,  1.32283917,  0.85979185,  0.77270826,  0.37856027,\n",
       "         1.57545866]])"
      ]
     },
     "execution_count": 21,
     "metadata": {},
     "output_type": "execute_result"
    }
   ],
   "source": [
    "centers = kmeans.cluster_centers_ # 클러스터의 중심점 (centroid) 좌표\n",
    "centers"
   ]
  },
  {
   "cell_type": "code",
   "execution_count": 26,
   "id": "ec0a1b36",
   "metadata": {},
   "outputs": [
    {
     "data": {
      "image/png": "[encoded data removed]",
      "text/plain": [
       "<Figure size 432x288 with 1 Axes>"
      ]
     },
     "metadata": {
      "needs_background": "light"
     },
     "output_type": "display_data"
    }
   ],
   "source": [
    "for cluster in range(K):\n",
    "    plt.scatter(X[y_kmeans == cluster, 0], X[y_kmeans == cluster, 1], s=100, edgecolor='black') # x값, y값, 동그라미 사이즈, 색깔\n",
    "    plt.scatter(centers[cluster, 0], centers[cluster, 1], s=300, edgecolor='black', color='yellow', marker='s') # 중심점 네모\n",
    "    plt.text(centers[cluster, 0], centers[cluster, 1], cluster, va='center', ha='center') # 클러스터 텍스트 출력\n",
    "    \n",
    "plt.title('Score by hours')\n",
    "plt.xlabel('5대 범죄')\n",
    "plt.ylabel('112 신고건 수')\n",
    "plt.show()"
   ]
  },
  {
   "cell_type": "code",
   "execution_count": 23,
   "id": "0178c1c6",
   "metadata": {},
   "outputs": [
    {
     "data": {
      "text/plain": [
       "array([[  7543.571429 ,   6736.714286 , 170421.4286   , 261914.5714   ,\n",
       "           869.8571429,  13837.28571  ],\n",
       "       [  4163.714286 ,  13509.14286  ,  89579.71429  , 212260.       ,\n",
       "           319.7142857,   7724.428571 ],\n",
       "       [  3460.714286 ,  11169.57143  ,  74903.42857  , 154574.       ,\n",
       "           428.4285714,   4388.285714 ],\n",
       "       [  4862.       ,  18163.       , 114848.       , 287358.8571   ,\n",
       "           323.1428571,   7849.571429 ],\n",
       "       [  5372.428571 ,  21519.57143  , 112705.       , 253621.8571   ,\n",
       "           536.4285714,   5190.142857 ]])"
      ]
     },
     "execution_count": 23,
     "metadata": {},
     "output_type": "execute_result"
    }
   ],
   "source": [
    "X_org = sc.inverse_transform(X) # Feature Scaling 된 데이터를 다시 원복\n",
    "X_org[:5]"
   ]
  },
  {
   "cell_type": "code",
   "execution_count": 24,
   "id": "e9688812",
   "metadata": {},
   "outputs": [
    {
     "data": {
      "text/plain": [
       "array([[  7543.571429  ,   6736.714286  , 170421.4286    ,\n",
       "        261914.5714    ,    869.8571429 ,  13837.28571   ],\n",
       "       [  3216.58730167,  15572.50793556,  62315.65079222,\n",
       "        146349.57144333,    301.015873  ,   6213.031746  ],\n",
       "       [  4302.52380942,  18212.36904917,  94965.66666667,\n",
       "        211599.49999167,    412.49999999,   7082.90476183],\n",
       "       [  5426.33333333,  23728.19047667, 112989.42857667,\n",
       "        239660.61906667,    450.57142857,  11513.999998  ]])"
      ]
     },
     "execution_count": 24,
     "metadata": {},
     "output_type": "execute_result"
    }
   ],
   "source": [
    "centers_org = sc.inverse_transform(centers)\n",
    "centers_org"
   ]
  },
  {
   "cell_type": "code",
   "execution_count": 27,
   "id": "7b096772",
   "metadata": {},
   "outputs": [
    {
     "data": {
      "image/png": "[encoded data removed]",
      "text/plain": [
       "<Figure size 432x288 with 1 Axes>"
      ]
     },
     "metadata": {
      "needs_background": "light"
     },
     "output_type": "display_data"
    }
   ],
   "source": [
    "for cluster in range(K):\n",
    "    plt.scatter(X_org[y_kmeans == cluster, 0], X_org[y_kmeans == cluster, 1], s=100, edgecolor='black') # 각 데이터\n",
    "    plt.scatter(centers_org[cluster, 0], centers_org[cluster, 1], s=300, edgecolor='black', color='yellow', marker='s') # 중심점 네모\n",
    "    plt.text(centers_org[cluster, 0], centers_org[cluster, 1], cluster, va='center', ha='center') # 클러스터 텍스트 출력\n",
    "    \n",
    "plt.title('Score by hours')\n",
    "plt.xlabel('5대 범죄')\n",
    "plt.ylabel('112 신고건 수')\n",
    "plt.show()"
   ]
  },
  {
   "cell_type": "code",
   "execution_count": 31,
   "id": "f5483173",
   "metadata": {
    "scrolled": true
   },
   "outputs": [
    {
     "data": {
      "text/plain": [
       "<matplotlib.collections.PathCollection at 0x2056aebe730>"
      ]
     },
     "execution_count": 31,
     "metadata": {},
     "output_type": "execute_result"
    },
    {
     "data": {
      "image/png": "[encoded data removed]",
      "text/plain": [
       "<Figure size 432x288 with 1 Axes>"
      ]
     },
     "metadata": {
      "needs_background": "light"
     },
     "output_type": "display_data"
    }
   ],
   "source": [
    "plt.scatter(X[:, 1], X[:, 2]) # x축 : 인구밀도, y축 : 112 신고건수"
   ]
  },
  {
   "cell_type": "code",
   "execution_count": 30,
   "id": "dfea902d",
   "metadata": {},
   "outputs": [
    {
     "data": {
      "image/png": "[encoded data removed]",
      "text/plain": [
       "<Figure size 432x288 with 1 Axes>"
      ]
     },
     "metadata": {
      "needs_background": "light"
     },
     "output_type": "display_data"
    }
   ],
   "source": [
    "# 축 범위 통일\n",
    "plt.scatter(X[:, 1], X[:, 2]) # x축 : hour, y축 : score\n",
    "plt.xlim(0, 175000)\n",
    "plt.ylim(0, 175000)\n",
    "plt.show()"
   ]
  },
  {
   "cell_type": "code",
   "execution_count": 32,
   "id": "4f7a9982",
   "metadata": {},
   "outputs": [
    {
     "data": {
      "text/plain": [
       "array([[ 3.0098363 , -2.2658431 ,  2.86736173,  1.14514452,  3.24658913,\n",
       "         2.50390165],\n",
       "       [-0.0110575 , -0.8354733 ,  0.0414913 ,  0.31413874, -0.51653835,\n",
       "         0.06105128],\n",
       "       [-0.63939422, -1.32960215, -0.47152704, -0.65127889,  0.22709707,\n",
       "        -1.27215472],\n",
       "       [ 0.61306562,  0.14744392,  0.92475932,  1.57097335, -0.49308599,\n",
       "         0.11106149],\n",
       "       [ 1.06928328,  0.8563681 ,  0.84984948,  1.00635984,  0.96584659,\n",
       "        -0.95171258]])"
      ]
     },
     "execution_count": 32,
     "metadata": {},
     "output_type": "execute_result"
    }
   ],
   "source": [
    "from sklearn.preprocessing import StandardScaler\n",
    "sc = StandardScaler()\n",
    "X = sc.fit_transform(X)\n",
    "X[:5]"
   ]
  },
  {
   "cell_type": "code",
   "execution_count": 33,
   "id": "94bd9fc2",
   "metadata": {},
   "outputs": [
    {
     "data": {
      "text/plain": [
       "<matplotlib.collections.PathCollection at 0x2056af22640>"
      ]
     },
     "execution_count": 33,
     "metadata": {},
     "output_type": "execute_result"
    },
    {
     "data": {
      "image/png": "[encoded data removed]",
      "text/plain": [
       "<Figure size 360x360 with 1 Axes>"
      ]
     },
     "metadata": {
      "needs_background": "light"
     },
     "output_type": "display_data"
    }
   ],
   "source": [
    "plt.figure(figsize=(5, 5))\n",
    "plt.scatter(X[:, 1], X[:, 2])"
   ]
  },
  {
   "cell_type": "code",
   "execution_count": 34,
   "id": "c1f29a5a",
   "metadata": {},
   "outputs": [
    {
     "data": {
      "image/png": "[encoded data removed]",
      "text/plain": [
       "<Figure size 432x288 with 1 Axes>"
      ]
     },
     "metadata": {
      "needs_background": "light"
     },
     "output_type": "display_data"
    }
   ],
   "source": [
    "#최적의 K 값 찾기 (엘보우 방식 Elbow Method\n",
    "from sklearn.cluster import KMeans\n",
    "inertia_list = []\n",
    "for i in range(1, 11):\n",
    "    kmeans = KMeans(n_clusters=i, init='k-means++', random_state=0)\n",
    "    kmeans.fit(X)\n",
    "    inertia_list.append(kmeans.inertia_) # 각 지점으로부터 클러스터의 중심(centroid) 까지의 거리의 제곱의 합\n",
    "    \n",
    "plt.plot(range(1, 11), inertia_list)\n",
    "plt.title('Elbow Method')\n",
    "plt.xlabel('n_clusters')\n",
    "plt.ylabel('inertia')\n",
    "plt.show()"
   ]
  },
  {
   "cell_type": "code",
   "execution_count": null,
   "id": "f613e1ff",
   "metadata": {},
   "outputs": [],
   "source": []
  },
  {
   "cell_type": "code",
   "execution_count": null,
   "id": "ad391362",
   "metadata": {},
   "outputs": [],
   "source": []
  },
  {
   "cell_type": "code",
   "execution_count": null,
   "id": "e26ebe60",
   "metadata": {},
   "outputs": [],
   "source": []
  },
  {
   "cell_type": "code",
   "execution_count": null,
   "id": "6466f085",
   "metadata": {},
   "outputs": [],
   "source": []
  },
  {
   "cell_type": "code",
   "execution_count": null,
   "id": "1aa811a4",
   "metadata": {},
   "outputs": [],
   "source": []
  },
  {
   "cell_type": "code",
   "execution_count": null,
   "id": "146bc1f8",
   "metadata": {},
   "outputs": [],
   "source": []
  },
  {
   "cell_type": "code",
   "execution_count": null,
   "id": "e048e86a",
   "metadata": {},
   "outputs": [],
   "source": []
  },
  {
   "cell_type": "code",
   "execution_count": 11,
   "id": "da082bad",
   "metadata": {},
   "outputs": [
    {
     "data": {
      "text/plain": [
       "<matplotlib.collections.PathCollection at 0x20569570ee0>"
      ]
     },
     "execution_count": 11,
     "metadata": {},
     "output_type": "execute_result"
    },
    {
     "data": {
      "image/png": "[encoded data removed]",
      "text/plain": [
       "<Figure size 432x288 with 1 Axes>"
      ]
     },
     "metadata": {
      "needs_background": "light"
     },
     "output_type": "display_data"
    }
   ],
   "source": [
    "plt.scatter(X[:, 3], X[:, 2]) # x축 : 여성 가구원 수, y축 : 112 신고건수"
   ]
  },
  {
   "cell_type": "code",
   "execution_count": 12,
   "id": "6eabbd12",
   "metadata": {},
   "outputs": [
    {
     "data": {
      "text/plain": [
       "<matplotlib.collections.PathCollection at 0x20568ca98b0>"
      ]
     },
     "execution_count": 12,
     "metadata": {},
     "output_type": "execute_result"
    },
    {
     "data": {
      "image/png": "[encoded data removed]",
      "text/plain": [
       "<Figure size 432x288 with 1 Axes>"
      ]
     },
     "metadata": {
      "needs_background": "light"
     },
     "output_type": "display_data"
    }
   ],
   "source": [
    "plt.scatter(X[:, 4], X[:, 2]) # x축 : cctv, y축 : 112 신고건 수"
   ]
  },
  {
   "cell_type": "code",
   "execution_count": 13,
   "id": "eebd2720",
   "metadata": {},
   "outputs": [
    {
     "data": {
      "text/plain": [
       "<matplotlib.collections.PathCollection at 0x20569a61e80>"
      ]
     },
     "execution_count": 13,
     "metadata": {},
     "output_type": "execute_result"
    },
    {
     "data": {
      "image/png": "[encoded data removed]",
      "text/plain": [
       "<Figure size 432x288 with 1 Axes>"
      ]
     },
     "metadata": {
      "needs_background": "light"
     },
     "output_type": "display_data"
    }
   ],
   "source": [
    "plt.scatter(X[:, 5], X[:, 2]) # x축 : 가로등, y축 : 112 신고건 수"
   ]
  },
  {
   "cell_type": "code",
   "execution_count": null,
   "id": "55c4ae69",
   "metadata": {},
   "outputs": [],
   "source": []
  },
  {
   "cell_type": "code",
   "execution_count": null,
   "id": "50555fd8",
   "metadata": {},
   "outputs": [],
   "source": []
  },
  {
   "cell_type": "code",
   "execution_count": null,
   "id": "179a0a70",
   "metadata": {},
   "outputs": [],
   "source": [
    "data = df[]"
   ]
  }
 ],
 "metadata": {
  "kernelspec": {
   "display_name": "Python 3 (ipykernel)",
   "language": "python",
   "name": "python3"
  },
  "language_info": {
   "codemirror_mode": {
    "name": "ipython",
    "version": 3
   },
   "file_extension": ".py",
   "mimetype": "text/x-python",
   "name": "python",
   "nbconvert_exporter": "python",
   "pygments_lexer": "ipython3",
   "version": "3.9.12"
  }
 },
 "nbformat": 4,
 "nbformat_minor": 5
}
