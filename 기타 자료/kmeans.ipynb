{
 "cells": [
  {
   "cell_type": "code",
   "execution_count": 73,
   "id": "e3da7431",
   "metadata": {},
   "outputs": [],
   "source": [
    "\n",
    "import os\n",
    "os.environ['OMP_NUM_THREADS'] = '1' # 엘보우 방식 그래프 시각화시 경고 대응\n",
    "\n",
    "import pandas as pd\n",
    "import numpy as np\n",
    "import matplotlib.pyplot as plt\n",
    "import matplotlib\n",
    "import seaborn as sns\n",
    "from sklearn.cluster import KMeans\n",
    "from sklearn.decomposition import PCA\n"
   ]
  },
  {
   "cell_type": "code",
   "execution_count": 77,
   "id": "04962d86",
   "metadata": {},
   "outputs": [
    {
     "data": {
      "text/html": [
       "<div>\n",
       "<style scoped>\n",
       "    .dataframe tbody tr th:only-of-type {\n",
       "        vertical-align: middle;\n",
       "    }\n",
       "\n",
       "    .dataframe tbody tr th {\n",
       "        vertical-align: top;\n",
       "    }\n",
       "\n",
       "    .dataframe thead th {\n",
       "        text-align: right;\n",
       "    }\n",
       "</style>\n",
       "<table border=\"1\" class=\"dataframe\">\n",
       "  <thead>\n",
       "    <tr style=\"text-align: right;\">\n",
       "      <th></th>\n",
       "      <th>5대범죄 건수 평균</th>\n",
       "      <th>인구밀도 평균</th>\n",
       "      <th>112신고 건수 평균</th>\n",
       "      <th>여성 가구원수 평균</th>\n",
       "      <th>cctv수 평균</th>\n",
       "      <th>가로등수 평균</th>\n",
       "    </tr>\n",
       "    <tr>\n",
       "      <th>지역</th>\n",
       "      <th></th>\n",
       "      <th></th>\n",
       "      <th></th>\n",
       "      <th></th>\n",
       "      <th></th>\n",
       "      <th></th>\n",
       "    </tr>\n",
       "  </thead>\n",
       "  <tbody>\n",
       "    <tr>\n",
       "      <th>강남구</th>\n",
       "      <td>7543.571429</td>\n",
       "      <td>6736.714286</td>\n",
       "      <td>170421.428571</td>\n",
       "      <td>261914.571429</td>\n",
       "      <td>869.857143</td>\n",
       "      <td>13837.285714</td>\n",
       "    </tr>\n",
       "    <tr>\n",
       "      <th>강동구</th>\n",
       "      <td>4163.714286</td>\n",
       "      <td>13509.142857</td>\n",
       "      <td>89579.714286</td>\n",
       "      <td>212260.000000</td>\n",
       "      <td>319.714286</td>\n",
       "      <td>7724.428571</td>\n",
       "    </tr>\n",
       "    <tr>\n",
       "      <th>강북구</th>\n",
       "      <td>3460.714286</td>\n",
       "      <td>11169.571429</td>\n",
       "      <td>74903.428571</td>\n",
       "      <td>154574.000000</td>\n",
       "      <td>428.428571</td>\n",
       "      <td>4388.285714</td>\n",
       "    </tr>\n",
       "    <tr>\n",
       "      <th>강서구</th>\n",
       "      <td>4862.000000</td>\n",
       "      <td>18163.000000</td>\n",
       "      <td>114848.000000</td>\n",
       "      <td>287358.857143</td>\n",
       "      <td>323.142857</td>\n",
       "      <td>7849.571429</td>\n",
       "    </tr>\n",
       "    <tr>\n",
       "      <th>관악구</th>\n",
       "      <td>5372.428571</td>\n",
       "      <td>21519.571429</td>\n",
       "      <td>112705.000000</td>\n",
       "      <td>253621.857143</td>\n",
       "      <td>536.428571</td>\n",
       "      <td>5190.142857</td>\n",
       "    </tr>\n",
       "    <tr>\n",
       "      <th>광진구</th>\n",
       "      <td>4355.857143</td>\n",
       "      <td>25591.714286</td>\n",
       "      <td>86648.571429</td>\n",
       "      <td>181476.857143</td>\n",
       "      <td>404.571429</td>\n",
       "      <td>4857.142857</td>\n",
       "    </tr>\n",
       "    <tr>\n",
       "      <th>구로구</th>\n",
       "      <td>4726.428571</td>\n",
       "      <td>22002.714286</td>\n",
       "      <td>86006.571429</td>\n",
       "      <td>212753.428571</td>\n",
       "      <td>429.142857</td>\n",
       "      <td>7669.285714</td>\n",
       "    </tr>\n",
       "    <tr>\n",
       "      <th>금천구</th>\n",
       "      <td>3160.857143</td>\n",
       "      <td>18462.857143</td>\n",
       "      <td>63704.285714</td>\n",
       "      <td>120722.142857</td>\n",
       "      <td>308.142857</td>\n",
       "      <td>5243.000000</td>\n",
       "    </tr>\n",
       "    <tr>\n",
       "      <th>노원구</th>\n",
       "      <td>4172.857143</td>\n",
       "      <td>13607.428571</td>\n",
       "      <td>89983.428571</td>\n",
       "      <td>265683.714286</td>\n",
       "      <td>309.142857</td>\n",
       "      <td>9302.285714</td>\n",
       "    </tr>\n",
       "    <tr>\n",
       "      <th>도봉구</th>\n",
       "      <td>2214.142857</td>\n",
       "      <td>16407.000000</td>\n",
       "      <td>54898.857143</td>\n",
       "      <td>162298.714286</td>\n",
       "      <td>233.285714</td>\n",
       "      <td>4499.000000</td>\n",
       "    </tr>\n",
       "    <tr>\n",
       "      <th>동대문구</th>\n",
       "      <td>3887.714286</td>\n",
       "      <td>15459.428571</td>\n",
       "      <td>28858.428571</td>\n",
       "      <td>177716.142857</td>\n",
       "      <td>370.571429</td>\n",
       "      <td>8152.285714</td>\n",
       "    </tr>\n",
       "    <tr>\n",
       "      <th>동작구</th>\n",
       "      <td>3280.285714</td>\n",
       "      <td>16460.857143</td>\n",
       "      <td>69205.428571</td>\n",
       "      <td>199861.571429</td>\n",
       "      <td>244.714286</td>\n",
       "      <td>5542.857143</td>\n",
       "    </tr>\n",
       "    <tr>\n",
       "      <th>마포구</th>\n",
       "      <td>4892.428571</td>\n",
       "      <td>18313.285714</td>\n",
       "      <td>107486.285714</td>\n",
       "      <td>190437.285714</td>\n",
       "      <td>328.857143</td>\n",
       "      <td>8084.571429</td>\n",
       "    </tr>\n",
       "    <tr>\n",
       "      <th>서대문구</th>\n",
       "      <td>3051.857143</td>\n",
       "      <td>16220.285714</td>\n",
       "      <td>64242.428571</td>\n",
       "      <td>162843.142857</td>\n",
       "      <td>258.428571</td>\n",
       "      <td>5910.142857</td>\n",
       "    </tr>\n",
       "    <tr>\n",
       "      <th>서초구</th>\n",
       "      <td>4809.428571</td>\n",
       "      <td>26957.714286</td>\n",
       "      <td>98123.571429</td>\n",
       "      <td>205641.285714</td>\n",
       "      <td>550.285714</td>\n",
       "      <td>12161.285714</td>\n",
       "    </tr>\n",
       "    <tr>\n",
       "      <th>성동구</th>\n",
       "      <td>2656.285714</td>\n",
       "      <td>14388.142857</td>\n",
       "      <td>57321.428571</td>\n",
       "      <td>147371.142857</td>\n",
       "      <td>458.142857</td>\n",
       "      <td>5860.714286</td>\n",
       "    </tr>\n",
       "    <tr>\n",
       "      <th>성북구</th>\n",
       "      <td>3175.571429</td>\n",
       "      <td>21849.714286</td>\n",
       "      <td>75245.142857</td>\n",
       "      <td>223697.428571</td>\n",
       "      <td>577.714286</td>\n",
       "      <td>5478.000000</td>\n",
       "    </tr>\n",
       "    <tr>\n",
       "      <th>송파구</th>\n",
       "      <td>5724.714286</td>\n",
       "      <td>19342.571429</td>\n",
       "      <td>127502.571429</td>\n",
       "      <td>317456.428571</td>\n",
       "      <td>374.714286</td>\n",
       "      <td>13093.428571</td>\n",
       "    </tr>\n",
       "    <tr>\n",
       "      <th>양천구</th>\n",
       "      <td>3640.285714</td>\n",
       "      <td>16527.714286</td>\n",
       "      <td>74413.285714</td>\n",
       "      <td>219399.571429</td>\n",
       "      <td>444.714286</td>\n",
       "      <td>7816.571429</td>\n",
       "    </tr>\n",
       "    <tr>\n",
       "      <th>영등포구</th>\n",
       "      <td>5744.857143</td>\n",
       "      <td>24884.285714</td>\n",
       "      <td>113342.142857</td>\n",
       "      <td>195884.142857</td>\n",
       "      <td>426.714286</td>\n",
       "      <td>9287.285714</td>\n",
       "    </tr>\n",
       "    <tr>\n",
       "      <th>용산구</th>\n",
       "      <td>3441.571429</td>\n",
       "      <td>17499.857143</td>\n",
       "      <td>73440.857143</td>\n",
       "      <td>113818.571429</td>\n",
       "      <td>306.714286</td>\n",
       "      <td>7433.571429</td>\n",
       "    </tr>\n",
       "    <tr>\n",
       "      <th>은평구</th>\n",
       "      <td>3890.428571</td>\n",
       "      <td>9324.000000</td>\n",
       "      <td>86552.285714</td>\n",
       "      <td>233652.428571</td>\n",
       "      <td>534.000000</td>\n",
       "      <td>6441.285714</td>\n",
       "    </tr>\n",
       "    <tr>\n",
       "      <th>종로구</th>\n",
       "      <td>3795.857143</td>\n",
       "      <td>14084.571429</td>\n",
       "      <td>74265.714286</td>\n",
       "      <td>77940.714286</td>\n",
       "      <td>100.714286</td>\n",
       "      <td>8887.428571</td>\n",
       "    </tr>\n",
       "    <tr>\n",
       "      <th>중구</th>\n",
       "      <td>4050.142857</td>\n",
       "      <td>19811.428571</td>\n",
       "      <td>128958.714286</td>\n",
       "      <td>65017.000000</td>\n",
       "      <td>307.571429</td>\n",
       "      <td>8634.428571</td>\n",
       "    </tr>\n",
       "    <tr>\n",
       "      <th>중랑구</th>\n",
       "      <td>4328.142857</td>\n",
       "      <td>18328.714286</td>\n",
       "      <td>87161.000000</td>\n",
       "      <td>193835.571429</td>\n",
       "      <td>435.000000</td>\n",
       "      <td>5947.142857</td>\n",
       "    </tr>\n",
       "  </tbody>\n",
       "</table>\n",
       "</div>"
      ],
      "text/plain": [
       "       5대범죄 건수 평균       인구밀도 평균    112신고 건수 평균     여성 가구원수 평균    cctv수 평균  \\\n",
       "지역                                                                          \n",
       "강남구   7543.571429   6736.714286  170421.428571  261914.571429  869.857143   \n",
       "강동구   4163.714286  13509.142857   89579.714286  212260.000000  319.714286   \n",
       "강북구   3460.714286  11169.571429   74903.428571  154574.000000  428.428571   \n",
       "강서구   4862.000000  18163.000000  114848.000000  287358.857143  323.142857   \n",
       "관악구   5372.428571  21519.571429  112705.000000  253621.857143  536.428571   \n",
       "광진구   4355.857143  25591.714286   86648.571429  181476.857143  404.571429   \n",
       "구로구   4726.428571  22002.714286   86006.571429  212753.428571  429.142857   \n",
       "금천구   3160.857143  18462.857143   63704.285714  120722.142857  308.142857   \n",
       "노원구   4172.857143  13607.428571   89983.428571  265683.714286  309.142857   \n",
       "도봉구   2214.142857  16407.000000   54898.857143  162298.714286  233.285714   \n",
       "동대문구  3887.714286  15459.428571   28858.428571  177716.142857  370.571429   \n",
       "동작구   3280.285714  16460.857143   69205.428571  199861.571429  244.714286   \n",
       "마포구   4892.428571  18313.285714  107486.285714  190437.285714  328.857143   \n",
       "서대문구  3051.857143  16220.285714   64242.428571  162843.142857  258.428571   \n",
       "서초구   4809.428571  26957.714286   98123.571429  205641.285714  550.285714   \n",
       "성동구   2656.285714  14388.142857   57321.428571  147371.142857  458.142857   \n",
       "성북구   3175.571429  21849.714286   75245.142857  223697.428571  577.714286   \n",
       "송파구   5724.714286  19342.571429  127502.571429  317456.428571  374.714286   \n",
       "양천구   3640.285714  16527.714286   74413.285714  219399.571429  444.714286   \n",
       "영등포구  5744.857143  24884.285714  113342.142857  195884.142857  426.714286   \n",
       "용산구   3441.571429  17499.857143   73440.857143  113818.571429  306.714286   \n",
       "은평구   3890.428571   9324.000000   86552.285714  233652.428571  534.000000   \n",
       "종로구   3795.857143  14084.571429   74265.714286   77940.714286  100.714286   \n",
       "중구    4050.142857  19811.428571  128958.714286   65017.000000  307.571429   \n",
       "중랑구   4328.142857  18328.714286   87161.000000  193835.571429  435.000000   \n",
       "\n",
       "           가로등수 평균  \n",
       "지역                  \n",
       "강남구   13837.285714  \n",
       "강동구    7724.428571  \n",
       "강북구    4388.285714  \n",
       "강서구    7849.571429  \n",
       "관악구    5190.142857  \n",
       "광진구    4857.142857  \n",
       "구로구    7669.285714  \n",
       "금천구    5243.000000  \n",
       "노원구    9302.285714  \n",
       "도봉구    4499.000000  \n",
       "동대문구   8152.285714  \n",
       "동작구    5542.857143  \n",
       "마포구    8084.571429  \n",
       "서대문구   5910.142857  \n",
       "서초구   12161.285714  \n",
       "성동구    5860.714286  \n",
       "성북구    5478.000000  \n",
       "송파구   13093.428571  \n",
       "양천구    7816.571429  \n",
       "영등포구   9287.285714  \n",
       "용산구    7433.571429  \n",
       "은평구    6441.285714  \n",
       "종로구    8887.428571  \n",
       "중구     8634.428571  \n",
       "중랑구    5947.142857  "
      ]
     },
     "execution_count": 77,
     "metadata": {},
     "output_type": "execute_result"
    }
   ],
   "source": [
    "df= pd.read_excel('C:/mypycode/project2/final/cal112_kind_of_average.xlsx')\n",
    "df = df.iloc[:,[1,2,3,4,5,6,7]]\n",
    "df= df.set_index('지역')\n",
    "df\n",
    "                  "
   ]
  },
  {
   "cell_type": "code",
   "execution_count": 78,
   "id": "0ea2e77f",
   "metadata": {},
   "outputs": [
    {
     "data": {
      "text/html": [
       "<div>\n",
       "<style scoped>\n",
       "    .dataframe tbody tr th:only-of-type {\n",
       "        vertical-align: middle;\n",
       "    }\n",
       "\n",
       "    .dataframe tbody tr th {\n",
       "        vertical-align: top;\n",
       "    }\n",
       "\n",
       "    .dataframe thead th {\n",
       "        text-align: right;\n",
       "    }\n",
       "</style>\n",
       "<table border=\"1\" class=\"dataframe\">\n",
       "  <thead>\n",
       "    <tr style=\"text-align: right;\">\n",
       "      <th></th>\n",
       "      <th>5대범죄 건수 평균</th>\n",
       "      <th>인구밀도 평균</th>\n",
       "      <th>cctv수 평균</th>\n",
       "      <th>여성 가구원수 평균</th>\n",
       "      <th>가로등수 평균</th>\n",
       "      <th>112신고 건수 평균</th>\n",
       "    </tr>\n",
       "    <tr>\n",
       "      <th>지역</th>\n",
       "      <th></th>\n",
       "      <th></th>\n",
       "      <th></th>\n",
       "      <th></th>\n",
       "      <th></th>\n",
       "      <th></th>\n",
       "    </tr>\n",
       "  </thead>\n",
       "  <tbody>\n",
       "    <tr>\n",
       "      <th>강남구</th>\n",
       "      <td>7543.571429</td>\n",
       "      <td>6736.714286</td>\n",
       "      <td>869.857143</td>\n",
       "      <td>261914.571429</td>\n",
       "      <td>13837.285714</td>\n",
       "      <td>170421.428571</td>\n",
       "    </tr>\n",
       "    <tr>\n",
       "      <th>강동구</th>\n",
       "      <td>4163.714286</td>\n",
       "      <td>13509.142857</td>\n",
       "      <td>319.714286</td>\n",
       "      <td>212260.000000</td>\n",
       "      <td>7724.428571</td>\n",
       "      <td>89579.714286</td>\n",
       "    </tr>\n",
       "    <tr>\n",
       "      <th>강북구</th>\n",
       "      <td>3460.714286</td>\n",
       "      <td>11169.571429</td>\n",
       "      <td>428.428571</td>\n",
       "      <td>154574.000000</td>\n",
       "      <td>4388.285714</td>\n",
       "      <td>74903.428571</td>\n",
       "    </tr>\n",
       "    <tr>\n",
       "      <th>강서구</th>\n",
       "      <td>4862.000000</td>\n",
       "      <td>18163.000000</td>\n",
       "      <td>323.142857</td>\n",
       "      <td>287358.857143</td>\n",
       "      <td>7849.571429</td>\n",
       "      <td>114848.000000</td>\n",
       "    </tr>\n",
       "    <tr>\n",
       "      <th>관악구</th>\n",
       "      <td>5372.428571</td>\n",
       "      <td>21519.571429</td>\n",
       "      <td>536.428571</td>\n",
       "      <td>253621.857143</td>\n",
       "      <td>5190.142857</td>\n",
       "      <td>112705.000000</td>\n",
       "    </tr>\n",
       "  </tbody>\n",
       "</table>\n",
       "</div>"
      ],
      "text/plain": [
       "      5대범죄 건수 평균       인구밀도 평균    cctv수 평균     여성 가구원수 평균       가로등수 평균  \\\n",
       "지역                                                                        \n",
       "강남구  7543.571429   6736.714286  869.857143  261914.571429  13837.285714   \n",
       "강동구  4163.714286  13509.142857  319.714286  212260.000000   7724.428571   \n",
       "강북구  3460.714286  11169.571429  428.428571  154574.000000   4388.285714   \n",
       "강서구  4862.000000  18163.000000  323.142857  287358.857143   7849.571429   \n",
       "관악구  5372.428571  21519.571429  536.428571  253621.857143   5190.142857   \n",
       "\n",
       "       112신고 건수 평균  \n",
       "지역                  \n",
       "강남구  170421.428571  \n",
       "강동구   89579.714286  \n",
       "강북구   74903.428571  \n",
       "강서구  114848.000000  \n",
       "관악구  112705.000000  "
      ]
     },
     "execution_count": 78,
     "metadata": {},
     "output_type": "execute_result"
    }
   ],
   "source": [
    "df1=df[['5대범죄 건수 평균','인구밀도 평균','cctv수 평균','여성 가구원수 평균','가로등수 평균','112신고 건수 평균']]\n",
    "df1.head()"
   ]
  },
  {
   "cell_type": "code",
   "execution_count": 79,
   "id": "35b7972e",
   "metadata": {},
   "outputs": [
    {
     "data": {
      "text/html": [
       "<div>\n",
       "<style scoped>\n",
       "    .dataframe tbody tr th:only-of-type {\n",
       "        vertical-align: middle;\n",
       "    }\n",
       "\n",
       "    .dataframe tbody tr th {\n",
       "        vertical-align: top;\n",
       "    }\n",
       "\n",
       "    .dataframe thead th {\n",
       "        text-align: right;\n",
       "    }\n",
       "</style>\n",
       "<table border=\"1\" class=\"dataframe\">\n",
       "  <thead>\n",
       "    <tr style=\"text-align: right;\">\n",
       "      <th></th>\n",
       "      <th>5대범죄 건수 평균</th>\n",
       "      <th>인구밀도 평균</th>\n",
       "      <th>cctv수 평균</th>\n",
       "      <th>여성 가구원수 평균</th>\n",
       "      <th>가로등수 평균</th>\n",
       "      <th>112신고 건수 평균</th>\n",
       "    </tr>\n",
       "    <tr>\n",
       "      <th>지역</th>\n",
       "      <th></th>\n",
       "      <th></th>\n",
       "      <th></th>\n",
       "      <th></th>\n",
       "      <th></th>\n",
       "      <th></th>\n",
       "    </tr>\n",
       "  </thead>\n",
       "  <tbody>\n",
       "    <tr>\n",
       "      <th>강남구</th>\n",
       "      <td>7543.571429</td>\n",
       "      <td>6736.714286</td>\n",
       "      <td>869.857143</td>\n",
       "      <td>261914.571429</td>\n",
       "      <td>13837.285714</td>\n",
       "      <td>170421.428571</td>\n",
       "    </tr>\n",
       "    <tr>\n",
       "      <th>강동구</th>\n",
       "      <td>4163.714286</td>\n",
       "      <td>13509.142857</td>\n",
       "      <td>319.714286</td>\n",
       "      <td>212260.000000</td>\n",
       "      <td>7724.428571</td>\n",
       "      <td>89579.714286</td>\n",
       "    </tr>\n",
       "    <tr>\n",
       "      <th>강북구</th>\n",
       "      <td>3460.714286</td>\n",
       "      <td>11169.571429</td>\n",
       "      <td>428.428571</td>\n",
       "      <td>154574.000000</td>\n",
       "      <td>4388.285714</td>\n",
       "      <td>74903.428571</td>\n",
       "    </tr>\n",
       "    <tr>\n",
       "      <th>강서구</th>\n",
       "      <td>4862.000000</td>\n",
       "      <td>18163.000000</td>\n",
       "      <td>323.142857</td>\n",
       "      <td>287358.857143</td>\n",
       "      <td>7849.571429</td>\n",
       "      <td>114848.000000</td>\n",
       "    </tr>\n",
       "    <tr>\n",
       "      <th>관악구</th>\n",
       "      <td>5372.428571</td>\n",
       "      <td>21519.571429</td>\n",
       "      <td>536.428571</td>\n",
       "      <td>253621.857143</td>\n",
       "      <td>5190.142857</td>\n",
       "      <td>112705.000000</td>\n",
       "    </tr>\n",
       "  </tbody>\n",
       "</table>\n",
       "</div>"
      ],
      "text/plain": [
       "      5대범죄 건수 평균       인구밀도 평균    cctv수 평균     여성 가구원수 평균       가로등수 평균  \\\n",
       "지역                                                                        \n",
       "강남구  7543.571429   6736.714286  869.857143  261914.571429  13837.285714   \n",
       "강동구  4163.714286  13509.142857  319.714286  212260.000000   7724.428571   \n",
       "강북구  3460.714286  11169.571429  428.428571  154574.000000   4388.285714   \n",
       "강서구  4862.000000  18163.000000  323.142857  287358.857143   7849.571429   \n",
       "관악구  5372.428571  21519.571429  536.428571  253621.857143   5190.142857   \n",
       "\n",
       "       112신고 건수 평균  \n",
       "지역                  \n",
       "강남구  170421.428571  \n",
       "강동구   89579.714286  \n",
       "강북구   74903.428571  \n",
       "강서구  114848.000000  \n",
       "관악구  112705.000000  "
      ]
     },
     "execution_count": 79,
     "metadata": {},
     "output_type": "execute_result"
    }
   ],
   "source": [
    "dataset=df1\n",
    "dataset[:5]"
   ]
  },
  {
   "cell_type": "code",
   "execution_count": 80,
   "id": "35c8098e",
   "metadata": {},
   "outputs": [
    {
     "data": {
      "text/plain": [
       "array([[  7543.57142857,   6736.71428571,    869.85714286,\n",
       "        261914.57142857,  13837.28571429, 170421.42857143],\n",
       "       [  4163.71428571,  13509.14285714,    319.71428571,\n",
       "        212260.        ,   7724.42857143,  89579.71428571],\n",
       "       [  3460.71428571,  11169.57142857,    428.42857143,\n",
       "        154574.        ,   4388.28571429,  74903.42857143],\n",
       "       [  4862.        ,  18163.        ,    323.14285714,\n",
       "        287358.85714286,   7849.57142857, 114848.        ],\n",
       "       [  5372.42857143,  21519.57142857,    536.42857143,\n",
       "        253621.85714286,   5190.14285714, 112705.        ]])"
      ]
     },
     "execution_count": 80,
     "metadata": {},
     "output_type": "execute_result"
    }
   ],
   "source": [
    "X =dataset.iloc[:,:].values # X = dataset.to_numpy() , X = dataset.values\n",
    "X[:5]"
   ]
  },
  {
   "cell_type": "code",
   "execution_count": 81,
   "id": "b32e9022",
   "metadata": {},
   "outputs": [],
   "source": [
    "#데이터 시각화 한글표시\n",
    "matplotlib.rcParams['font.family']='Malgun Gothic'"
   ]
  },
  {
   "cell_type": "code",
   "execution_count": 82,
   "id": "b54bca7b",
   "metadata": {},
   "outputs": [
    {
     "data": {
      "image/png": "[encoded data removed]",
      "text/plain": [
       "<Figure size 432x288 with 1 Axes>"
      ]
     },
     "metadata": {
      "needs_background": "light"
     },
     "output_type": "display_data"
    }
   ],
   "source": [
    "plt.scatter(X[:,5],X[:,0]) #X축 5대범죄 건수 , Y축 인구밀도 평균\n",
    "plt.xlabel('112신고 건수 평균')\n",
    "plt.ylabel('5대범죄 건수 평균')\n",
    "plt.show()"
   ]
  },
  {
   "cell_type": "code",
   "execution_count": 83,
   "id": "adb66218",
   "metadata": {},
   "outputs": [
    {
     "data": {
      "image/png": "[encoded data removed]",
      "text/plain": [
       "<Figure size 432x288 with 1 Axes>"
      ]
     },
     "metadata": {
      "needs_background": "light"
     },
     "output_type": "display_data"
    }
   ],
   "source": [
    "##데이터 축 범위를 동일하게 해야함\n",
    "plt.scatter(X[:,5],X[:,0]) #X축 5대범죄 건수 , Y축 인구밀도 평균\n",
    "plt.xlim(2000,160000)\n",
    "plt.ylim(2000,160000)\n",
    "plt.xlabel('112신고 건수 평균')\n",
    "plt.ylabel('5대범죄 건수 평균')\n",
    "plt.show()"
   ]
  },
  {
   "cell_type": "code",
   "execution_count": 84,
   "id": "657e982a",
   "metadata": {},
   "outputs": [
    {
     "data": {
      "text/plain": [
       "array([[ 3.0098363 , -2.2658431 ,  3.24658913,  1.14514452,  2.50390165,\n",
       "         2.86736173],\n",
       "       [-0.0110575 , -0.8354733 , -0.51653835,  0.31413874,  0.06105128,\n",
       "         0.0414913 ],\n",
       "       [-0.63939422, -1.32960215,  0.22709707, -0.65127889, -1.27215472,\n",
       "        -0.47152704],\n",
       "       [ 0.61306562,  0.14744392, -0.49308599,  1.57097335,  0.11106149,\n",
       "         0.92475932],\n",
       "       [ 1.06928328,  0.8563681 ,  0.96584659,  1.00635984, -0.95171258,\n",
       "         0.84984948]])"
      ]
     },
     "execution_count": 84,
     "metadata": {},
     "output_type": "execute_result"
    }
   ],
   "source": [
    "##피처스케일링\n",
    "from sklearn.preprocessing import StandardScaler\n",
    "sc = StandardScaler()\n",
    "X = sc.fit_transform(X)\n",
    "X[:5]"
   ]
  },
  {
   "cell_type": "code",
   "execution_count": 85,
   "id": "6c5e6390",
   "metadata": {},
   "outputs": [
    {
     "name": "stderr",
     "output_type": "stream",
     "text": [
      "C:\\ProgramData\\Anaconda3\\lib\\site-packages\\IPython\\core\\pylabtools.py:151: UserWarning: Glyph 8722 (\\N{MINUS SIGN}) missing from current font.\n",
      "  fig.canvas.print_figure(bytes_io, **kw)\n"
     ]
    },
    {
     "data": {
      "image/png": "[encoded data removed]",
      "text/plain": [
       "<Figure size 360x360 with 1 Axes>"
      ]
     },
     "metadata": {
      "needs_background": "light"
     },
     "output_type": "display_data"
    }
   ],
   "source": [
    "# 스케일링된 데이터 시각화\n",
    "plt.figure(figsize=(5,5))\n",
    "plt.scatter(X[:,5],X[:,0]) #X축 5대범죄 건수 , Y축 인구밀도 평균\n",
    "plt.xlabel('112신고 건수 평균')\n",
    "plt.ylabel('5대범죄 건수')\n",
    "plt.show()"
   ]
  },
  {
   "cell_type": "code",
   "execution_count": 95,
   "id": "b199d7ea",
   "metadata": {},
   "outputs": [
    {
     "data": {
      "image/png": "[encoded data removed]",
      "text/plain": [
       "<Figure size 432x288 with 1 Axes>"
      ]
     },
     "metadata": {
      "needs_background": "light"
     },
     "output_type": "display_data"
    }
   ],
   "source": [
    "# 최적의 K 값 찾기 (엘보우 방식)\n",
    "from sklearn.cluster import KMeans\n",
    "inertia_list = []\n",
    "for i in range(1,11):\n",
    "    kmeans = KMeans(n_clusters=i, init='k-means++', random_state=0) \n",
    "    kmeans.fit(X) #학습\n",
    "    inertia_list.append(kmeans.inertia_)# 각 지점으로부터 클러스터의 중심 까지의 거리의 제곱의합\n",
    "plt.plot(range(1,11), inertia_list )\n",
    "plt.title('Elbow method')\n",
    "plt.xlabel('n_clusters')\n",
    "plt.ylabel('inertia')\n",
    "plt.show()   # k=3"
   ]
  },
  {
   "cell_type": "code",
   "execution_count": 96,
   "id": "15e3d198",
   "metadata": {},
   "outputs": [],
   "source": [
    " #최적의 k값\n",
    "K = 4 "
   ]
  },
  {
   "cell_type": "code",
   "execution_count": 97,
   "id": "3968b351",
   "metadata": {},
   "outputs": [
    {
     "data": {
      "text/plain": [
       "array([0, 2, 1, 2, 2, 2, 2, 1, 2, 1, 1, 1, 2, 1, 3, 1, 2, 3, 2, 3, 1, 2,\n",
       "       1, 2, 2])"
      ]
     },
     "execution_count": 97,
     "metadata": {},
     "output_type": "execute_result"
    }
   ],
   "source": [
    "kmeans =KMeans(n_clusters=K, random_state=0)\n",
    "#kmeans.fit(X)\n",
    "y_kmeans = kmeans.fit_predict(X)\n",
    "y_kmeans"
   ]
  },
  {
   "cell_type": "code",
   "execution_count": 99,
   "id": "e2fcc4cf",
   "metadata": {},
   "outputs": [
    {
     "data": {
      "text/plain": [
       "array([[ 3.0098363 , -2.2658431 ,  3.24658913,  1.14514452,  2.50390165,\n",
       "         2.86736173],\n",
       "       [-0.85759329, -0.39968058, -0.6444406 , -0.78892075, -0.54294064,\n",
       "        -0.91154034],\n",
       "       [ 0.11300953,  0.1578709 ,  0.11814129,  0.30308479, -0.19531766,\n",
       "         0.22976048],\n",
       "       [ 1.11746299,  1.32283917,  0.37856027,  0.77270826,  1.57545866,\n",
       "         0.85979185]])"
      ]
     },
     "execution_count": 99,
     "metadata": {},
     "output_type": "execute_result"
    }
   ],
   "source": [
    "centers = kmeans.cluster_centers_ # 클러스터의 중심점(centroid) 좌표\n",
    "centers"
   ]
  },
  {
   "cell_type": "code",
   "execution_count": 102,
   "id": "ce53d8ad",
   "metadata": {},
   "outputs": [
    {
     "data": {
      "image/png": "[encoded data removed]",
      "text/plain": [
       "<Figure size 432x288 with 1 Axes>"
      ]
     },
     "metadata": {
      "needs_background": "light"
     },
     "output_type": "display_data"
    }
   ],
   "source": [
    "# 데이터시각화(최적의 k)\n",
    "for cluster in range(K):\n",
    "    plt.scatter(X[y_kmeans == cluster, 5], X[y_kmeans == cluster, 0],s=100, edgecolor='black') # array 0인것만 추출\n",
    "    #0은 5대범죄 건수 1은 인구밀도 평균컬럼 \n",
    "    plt.scatter(centers[cluster, 5], centers[cluster, 0], s=300, edgecolor='black', color='yellow'\n",
    "               ,marker='s')#중심점 네모\n",
    "    plt.text(centers[cluster, 5], centers[cluster, 0], cluster, va='center', ha='center')#클러스터 텍스트 출력\n",
    "plt.title('socre by crime')\n",
    "plt.xlabel('112신고 건수 평균')\n",
    "plt.ylabel('5대범죄 건수')\n",
    "plt.show()"
   ]
  },
  {
   "cell_type": "code",
   "execution_count": 91,
   "id": "1af5e31f",
   "metadata": {},
   "outputs": [
    {
     "data": {
      "text/plain": [
       "array([[  7543.57142857,   6736.71428571,    869.85714286,\n",
       "        261914.57142857,  13837.28571429, 170421.42857143],\n",
       "       [  4163.71428571,  13509.14285714,    319.71428571,\n",
       "        212260.        ,   7724.42857143,  89579.71428571],\n",
       "       [  3460.71428571,  11169.57142857,    428.42857143,\n",
       "        154574.        ,   4388.28571429,  74903.42857143],\n",
       "       [  4862.        ,  18163.        ,    323.14285714,\n",
       "        287358.85714286,   7849.57142857, 114848.        ],\n",
       "       [  5372.42857143,  21519.57142857,    536.42857143,\n",
       "        253621.85714286,   5190.14285714, 112705.        ]])"
      ]
     },
     "execution_count": 91,
     "metadata": {},
     "output_type": "execute_result"
    }
   ],
   "source": [
    "# 데이터 시각화 (스케일링 원복)\n",
    "X_org = sc.inverse_transform(X) # Feaure scaling 된 데이터 언복\n",
    "X_org[:5]"
   ]
  },
  {
   "cell_type": "code",
   "execution_count": 92,
   "id": "cf1a7d9f",
   "metadata": {},
   "outputs": [
    {
     "data": {
      "text/plain": [
       "array([[  7543.57142857,   6736.71428571,    869.85714286,\n",
       "        261914.57142857,  13837.28571429, 170421.42857143],\n",
       "       [  3216.58730159,  15572.50793651,    301.01587302,\n",
       "        146349.57142857,   6213.03174603,  62315.65079365],\n",
       "       [  4302.52380952,  18212.36904762,    412.5       ,\n",
       "        211599.5       ,   7082.9047619 ,  94965.66666667],\n",
       "       [  5426.33333333,  23728.19047619,    450.57142857,\n",
       "        239660.61904762,  11514.        , 112989.42857143]])"
      ]
     },
     "execution_count": 92,
     "metadata": {},
     "output_type": "execute_result"
    }
   ],
   "source": [
    "centers_org=sc.inverse_transform(centers)\n",
    "centers_org"
   ]
  },
  {
   "cell_type": "code",
   "execution_count": 93,
   "id": "2a4ac12f",
   "metadata": {},
   "outputs": [
    {
     "data": {
      "image/png": "[encoded data removed]",
      "text/plain": [
       "<Figure size 432x288 with 1 Axes>"
      ]
     },
     "metadata": {
      "needs_background": "light"
     },
     "output_type": "display_data"
    }
   ],
   "source": [
    "# 원복된 데이터시각화(최적의 k)\n",
    "for cluster in range(K):\n",
    "    plt.scatter(X_org[y_kmeans == cluster, 5], X_org[y_kmeans == cluster, 0],s=100, edgecolor='black') # array 0인것만 추출\n",
    "    #0은 5대범죄 건수 1은 인구밀도 평균컬럼 \n",
    "    plt.scatter(centers_org[cluster, 5], centers_org[cluster, 0], s=300, edgecolor='black', color='yellow'\n",
    "               ,marker='s')#중심점 네모\n",
    "    plt.text(centers_org[cluster, 5], centers_org[cluster, 0], cluster, va='center', ha='center')#클러스터 텍스트 출력\n",
    "plt.title('112신고 건수별 범죄 건수')\n",
    "plt.xlabel('112신고 건수 평균')\n",
    "plt.ylabel('5대범죄 건수')\n",
    "plt.show()"
   ]
  },
  {
   "cell_type": "code",
   "execution_count": null,
   "id": "18a9e335",
   "metadata": {},
   "outputs": [],
   "source": []
  },
  {
   "cell_type": "code",
   "execution_count": null,
   "id": "afd1df87",
   "metadata": {},
   "outputs": [],
   "source": []
  }
 ],
 "metadata": {
  "kernelspec": {
   "display_name": "Python 3 (ipykernel)",
   "language": "python",
   "name": "python3"
  },
  "language_info": {
   "codemirror_mode": {
    "name": "ipython",
    "version": 3
   },
   "file_extension": ".py",
   "mimetype": "text/x-python",
   "name": "python",
   "nbconvert_exporter": "python",
   "pygments_lexer": "ipython3",
   "version": "3.9.12"
  }
 },
 "nbformat": 4,
 "nbformat_minor": 5
}
