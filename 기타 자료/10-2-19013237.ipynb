{
 "cells": [
  {
   "cell_type": "code",
   "execution_count": 1,
   "id": "96ba29fb",
   "metadata": {
    "_cell_guid": "b1076dfc-b9ad-4769-8c92-a6c4dae69d19",
    "_uuid": "8f2839f25d086af736a60e9eeb907d3b93b6e0e5",
    "execution": {
     "iopub.execute_input": "2022-05-03T02:24:28.057552Z",
     "iopub.status.busy": "2022-05-03T02:24:28.056842Z",
     "iopub.status.idle": "2022-05-03T02:24:28.070399Z",
     "shell.execute_reply": "2022-05-03T02:24:28.069301Z"
    },
    "papermill": {
     "duration": 0.030312,
     "end_time": "2022-05-03T02:24:28.072486",
     "exception": false,
     "start_time": "2022-05-03T02:24:28.042174",
     "status": "completed"
    },
    "tags": []
   },
   "outputs": [
    {
     "name": "stdout",
     "output_type": "stream",
     "text": [
      "/kaggle/input/2022-ml-midterm-p2/submit.csv\n",
      "/kaggle/input/2022-ml-midterm-p2/train.csv\n",
      "/kaggle/input/2022-ml-midterm-p2/test.csv\n"
     ]
    }
   ],
   "source": [
    "# This Python 3 environment comes with many helpful analytics libraries installed\n",
    "# It is defined by the kaggle/python Docker image: https://github.com/kaggle/docker-python\n",
    "# For example, here's several helpful packages to load\n",
    "\n",
    "import numpy as np # linear algebra\n",
    "import pandas as pd # data processing, CSV file I/O (e.g. pd.read_csv)\n",
    "\n",
    "# Input data files are available in the read-only \"../input/\" directory\n",
    "# For example, running this (by clicking run or pressing Shift+Enter) will list all files under the input directory\n",
    "\n",
    "import os\n",
    "for dirname, _, filenames in os.walk('/kaggle/input'):\n",
    "    for filename in filenames:\n",
    "        print(os.path.join(dirname, filename))\n",
    "\n",
    "# You can write up to 20GB to the current directory (/kaggle/working/) that gets preserved as output when you create a version using \"Save & Run All\" \n",
    "# You can also write temporary files to /kaggle/temp/, but they won't be saved outside of the current session"
   ]
  },
  {
   "cell_type": "code",
   "execution_count": 2,
   "id": "e41f914d",
   "metadata": {
    "execution": {
     "iopub.execute_input": "2022-05-03T02:24:28.099296Z",
     "iopub.status.busy": "2022-05-03T02:24:28.098699Z",
     "iopub.status.idle": "2022-05-03T02:24:28.102951Z",
     "shell.execute_reply": "2022-05-03T02:24:28.102291Z"
    },
    "papermill": {
     "duration": 0.01921,
     "end_time": "2022-05-03T02:24:28.104596",
     "exception": false,
     "start_time": "2022-05-03T02:24:28.085386",
     "status": "completed"
    },
    "tags": []
   },
   "outputs": [],
   "source": [
    "import random\n",
    "import os\n",
    "seed = 42\n",
    "random.seed(seed)\n",
    "np.random.seed(seed)\n",
    "os.environ[\"PYTHONHASHSEED\"] = str(seed)"
   ]
  },
  {
   "cell_type": "code",
   "execution_count": 3,
   "id": "f4af5760",
   "metadata": {
    "execution": {
     "iopub.execute_input": "2022-05-03T02:24:28.135370Z",
     "iopub.status.busy": "2022-05-03T02:24:28.134555Z",
     "iopub.status.idle": "2022-05-03T02:24:28.183947Z",
     "shell.execute_reply": "2022-05-03T02:24:28.183262Z"
    },
    "papermill": {
     "duration": 0.069782,
     "end_time": "2022-05-03T02:24:28.186345",
     "exception": false,
     "start_time": "2022-05-03T02:24:28.116563",
     "status": "completed"
    },
    "tags": []
   },
   "outputs": [],
   "source": [
    "train=pd.read_csv('/kaggle/input/2022-ml-midterm-p2/train.csv')\n",
    "test=pd.read_csv('/kaggle/input/2022-ml-midterm-p2/test.csv')\n",
    "submit=pd.read_csv('/kaggle/input/2022-ml-midterm-p2/submit.csv')"
   ]
  },
  {
   "cell_type": "code",
   "execution_count": 4,
   "id": "40302fb0",
   "metadata": {
    "execution": {
     "iopub.execute_input": "2022-05-03T02:24:28.215477Z",
     "iopub.status.busy": "2022-05-03T02:24:28.214823Z",
     "iopub.status.idle": "2022-05-03T02:24:28.238321Z",
     "shell.execute_reply": "2022-05-03T02:24:28.237249Z"
    },
    "papermill": {
     "duration": 0.041117,
     "end_time": "2022-05-03T02:24:28.241241",
     "exception": false,
     "start_time": "2022-05-03T02:24:28.200124",
     "status": "completed"
    },
    "tags": []
   },
   "outputs": [
    {
     "data": {
      "text/html": [
       "<div>\n",
       "<style scoped>\n",
       "    .dataframe tbody tr th:only-of-type {\n",
       "        vertical-align: middle;\n",
       "    }\n",
       "\n",
       "    .dataframe tbody tr th {\n",
       "        vertical-align: top;\n",
       "    }\n",
       "\n",
       "    .dataframe thead th {\n",
       "        text-align: right;\n",
       "    }\n",
       "</style>\n",
       "<table border=\"1\" class=\"dataframe\">\n",
       "  <thead>\n",
       "    <tr style=\"text-align: right;\">\n",
       "      <th></th>\n",
       "      <th>index</th>\n",
       "      <th>0</th>\n",
       "      <th>1</th>\n",
       "      <th>2</th>\n",
       "      <th>3</th>\n",
       "      <th>4</th>\n",
       "      <th>5</th>\n",
       "      <th>6</th>\n",
       "      <th>7</th>\n",
       "      <th>8</th>\n",
       "      <th>...</th>\n",
       "      <th>55</th>\n",
       "      <th>56</th>\n",
       "      <th>57</th>\n",
       "      <th>58</th>\n",
       "      <th>59</th>\n",
       "      <th>60</th>\n",
       "      <th>61</th>\n",
       "      <th>62</th>\n",
       "      <th>63</th>\n",
       "      <th>label</th>\n",
       "    </tr>\n",
       "  </thead>\n",
       "  <tbody>\n",
       "    <tr>\n",
       "      <th>0</th>\n",
       "      <td>0</td>\n",
       "      <td>0</td>\n",
       "      <td>0</td>\n",
       "      <td>5</td>\n",
       "      <td>13</td>\n",
       "      <td>9</td>\n",
       "      <td>1</td>\n",
       "      <td>0</td>\n",
       "      <td>0</td>\n",
       "      <td>0</td>\n",
       "      <td>...</td>\n",
       "      <td>0</td>\n",
       "      <td>0</td>\n",
       "      <td>0</td>\n",
       "      <td>6</td>\n",
       "      <td>13</td>\n",
       "      <td>10</td>\n",
       "      <td>0</td>\n",
       "      <td>0</td>\n",
       "      <td>0</td>\n",
       "      <td>0</td>\n",
       "    </tr>\n",
       "    <tr>\n",
       "      <th>1</th>\n",
       "      <td>1</td>\n",
       "      <td>0</td>\n",
       "      <td>0</td>\n",
       "      <td>0</td>\n",
       "      <td>12</td>\n",
       "      <td>13</td>\n",
       "      <td>5</td>\n",
       "      <td>0</td>\n",
       "      <td>0</td>\n",
       "      <td>0</td>\n",
       "      <td>...</td>\n",
       "      <td>0</td>\n",
       "      <td>0</td>\n",
       "      <td>0</td>\n",
       "      <td>0</td>\n",
       "      <td>11</td>\n",
       "      <td>16</td>\n",
       "      <td>10</td>\n",
       "      <td>0</td>\n",
       "      <td>0</td>\n",
       "      <td>1</td>\n",
       "    </tr>\n",
       "    <tr>\n",
       "      <th>2</th>\n",
       "      <td>2</td>\n",
       "      <td>0</td>\n",
       "      <td>0</td>\n",
       "      <td>0</td>\n",
       "      <td>4</td>\n",
       "      <td>15</td>\n",
       "      <td>12</td>\n",
       "      <td>0</td>\n",
       "      <td>0</td>\n",
       "      <td>0</td>\n",
       "      <td>...</td>\n",
       "      <td>0</td>\n",
       "      <td>0</td>\n",
       "      <td>0</td>\n",
       "      <td>0</td>\n",
       "      <td>3</td>\n",
       "      <td>11</td>\n",
       "      <td>16</td>\n",
       "      <td>9</td>\n",
       "      <td>0</td>\n",
       "      <td>2</td>\n",
       "    </tr>\n",
       "    <tr>\n",
       "      <th>3</th>\n",
       "      <td>3</td>\n",
       "      <td>0</td>\n",
       "      <td>0</td>\n",
       "      <td>7</td>\n",
       "      <td>15</td>\n",
       "      <td>13</td>\n",
       "      <td>1</td>\n",
       "      <td>0</td>\n",
       "      <td>0</td>\n",
       "      <td>0</td>\n",
       "      <td>...</td>\n",
       "      <td>0</td>\n",
       "      <td>0</td>\n",
       "      <td>0</td>\n",
       "      <td>7</td>\n",
       "      <td>13</td>\n",
       "      <td>13</td>\n",
       "      <td>9</td>\n",
       "      <td>0</td>\n",
       "      <td>0</td>\n",
       "      <td>3</td>\n",
       "    </tr>\n",
       "    <tr>\n",
       "      <th>4</th>\n",
       "      <td>4</td>\n",
       "      <td>0</td>\n",
       "      <td>0</td>\n",
       "      <td>0</td>\n",
       "      <td>1</td>\n",
       "      <td>11</td>\n",
       "      <td>0</td>\n",
       "      <td>0</td>\n",
       "      <td>0</td>\n",
       "      <td>0</td>\n",
       "      <td>...</td>\n",
       "      <td>0</td>\n",
       "      <td>0</td>\n",
       "      <td>0</td>\n",
       "      <td>0</td>\n",
       "      <td>2</td>\n",
       "      <td>16</td>\n",
       "      <td>4</td>\n",
       "      <td>0</td>\n",
       "      <td>0</td>\n",
       "      <td>4</td>\n",
       "    </tr>\n",
       "  </tbody>\n",
       "</table>\n",
       "<p>5 rows × 66 columns</p>\n",
       "</div>"
      ],
      "text/plain": [
       "   index  0  1  2   3   4   5  6  7  8  ...  55  56  57  58  59  60  61  62  \\\n",
       "0      0  0  0  5  13   9   1  0  0  0  ...   0   0   0   6  13  10   0   0   \n",
       "1      1  0  0  0  12  13   5  0  0  0  ...   0   0   0   0  11  16  10   0   \n",
       "2      2  0  0  0   4  15  12  0  0  0  ...   0   0   0   0   3  11  16   9   \n",
       "3      3  0  0  7  15  13   1  0  0  0  ...   0   0   0   7  13  13   9   0   \n",
       "4      4  0  0  0   1  11   0  0  0  0  ...   0   0   0   0   2  16   4   0   \n",
       "\n",
       "   63  label  \n",
       "0   0      0  \n",
       "1   0      1  \n",
       "2   0      2  \n",
       "3   0      3  \n",
       "4   0      4  \n",
       "\n",
       "[5 rows x 66 columns]"
      ]
     },
     "execution_count": 4,
     "metadata": {},
     "output_type": "execute_result"
    }
   ],
   "source": [
    "train.head()"
   ]
  },
  {
   "cell_type": "code",
   "execution_count": 5,
   "id": "540e95ad",
   "metadata": {
    "execution": {
     "iopub.execute_input": "2022-05-03T02:24:28.269246Z",
     "iopub.status.busy": "2022-05-03T02:24:28.268960Z",
     "iopub.status.idle": "2022-05-03T02:24:28.299861Z",
     "shell.execute_reply": "2022-05-03T02:24:28.299009Z"
    },
    "papermill": {
     "duration": 0.046749,
     "end_time": "2022-05-03T02:24:28.301915",
     "exception": false,
     "start_time": "2022-05-03T02:24:28.255166",
     "status": "completed"
    },
    "tags": []
   },
   "outputs": [
    {
     "data": {
      "text/html": [
       "<div>\n",
       "<style scoped>\n",
       "    .dataframe tbody tr th:only-of-type {\n",
       "        vertical-align: middle;\n",
       "    }\n",
       "\n",
       "    .dataframe tbody tr th {\n",
       "        vertical-align: top;\n",
       "    }\n",
       "\n",
       "    .dataframe thead th {\n",
       "        text-align: right;\n",
       "    }\n",
       "</style>\n",
       "<table border=\"1\" class=\"dataframe\">\n",
       "  <thead>\n",
       "    <tr style=\"text-align: right;\">\n",
       "      <th></th>\n",
       "      <th>index</th>\n",
       "      <th>0</th>\n",
       "      <th>1</th>\n",
       "      <th>2</th>\n",
       "      <th>3</th>\n",
       "      <th>4</th>\n",
       "      <th>5</th>\n",
       "      <th>6</th>\n",
       "      <th>7</th>\n",
       "      <th>8</th>\n",
       "      <th>...</th>\n",
       "      <th>54</th>\n",
       "      <th>55</th>\n",
       "      <th>56</th>\n",
       "      <th>57</th>\n",
       "      <th>58</th>\n",
       "      <th>59</th>\n",
       "      <th>60</th>\n",
       "      <th>61</th>\n",
       "      <th>62</th>\n",
       "      <th>63</th>\n",
       "    </tr>\n",
       "  </thead>\n",
       "  <tbody>\n",
       "    <tr>\n",
       "      <th>0</th>\n",
       "      <td>23</td>\n",
       "      <td>0.0</td>\n",
       "      <td>1.0</td>\n",
       "      <td>8.0</td>\n",
       "      <td>12.0</td>\n",
       "      <td>15.0</td>\n",
       "      <td>14.0</td>\n",
       "      <td>4.0</td>\n",
       "      <td>0.0</td>\n",
       "      <td>0.0</td>\n",
       "      <td>...</td>\n",
       "      <td>0.0</td>\n",
       "      <td>0.0</td>\n",
       "      <td>0.0</td>\n",
       "      <td>0.0</td>\n",
       "      <td>14.0</td>\n",
       "      <td>15.0</td>\n",
       "      <td>11.0</td>\n",
       "      <td>2.0</td>\n",
       "      <td>0.0</td>\n",
       "      <td>0.0</td>\n",
       "    </tr>\n",
       "    <tr>\n",
       "      <th>1</th>\n",
       "      <td>29</td>\n",
       "      <td>0.0</td>\n",
       "      <td>0.0</td>\n",
       "      <td>9.0</td>\n",
       "      <td>13.0</td>\n",
       "      <td>7.0</td>\n",
       "      <td>0.0</td>\n",
       "      <td>0.0</td>\n",
       "      <td>0.0</td>\n",
       "      <td>0.0</td>\n",
       "      <td>...</td>\n",
       "      <td>16.0</td>\n",
       "      <td>2.0</td>\n",
       "      <td>0.0</td>\n",
       "      <td>0.0</td>\n",
       "      <td>7.0</td>\n",
       "      <td>12.0</td>\n",
       "      <td>12.0</td>\n",
       "      <td>12.0</td>\n",
       "      <td>11.0</td>\n",
       "      <td>0.0</td>\n",
       "    </tr>\n",
       "    <tr>\n",
       "      <th>2</th>\n",
       "      <td>30</td>\n",
       "      <td>0.0</td>\n",
       "      <td>0.0</td>\n",
       "      <td>10.0</td>\n",
       "      <td>14.0</td>\n",
       "      <td>11.0</td>\n",
       "      <td>3.0</td>\n",
       "      <td>0.0</td>\n",
       "      <td>0.0</td>\n",
       "      <td>0.0</td>\n",
       "      <td>...</td>\n",
       "      <td>0.0</td>\n",
       "      <td>0.0</td>\n",
       "      <td>0.0</td>\n",
       "      <td>0.0</td>\n",
       "      <td>11.0</td>\n",
       "      <td>16.0</td>\n",
       "      <td>12.0</td>\n",
       "      <td>3.0</td>\n",
       "      <td>0.0</td>\n",
       "      <td>0.0</td>\n",
       "    </tr>\n",
       "    <tr>\n",
       "      <th>3</th>\n",
       "      <td>32</td>\n",
       "      <td>0.0</td>\n",
       "      <td>2.0</td>\n",
       "      <td>13.0</td>\n",
       "      <td>16.0</td>\n",
       "      <td>16.0</td>\n",
       "      <td>16.0</td>\n",
       "      <td>11.0</td>\n",
       "      <td>0.0</td>\n",
       "      <td>0.0</td>\n",
       "      <td>...</td>\n",
       "      <td>0.0</td>\n",
       "      <td>0.0</td>\n",
       "      <td>0.0</td>\n",
       "      <td>2.0</td>\n",
       "      <td>16.0</td>\n",
       "      <td>15.0</td>\n",
       "      <td>8.0</td>\n",
       "      <td>0.0</td>\n",
       "      <td>0.0</td>\n",
       "      <td>0.0</td>\n",
       "    </tr>\n",
       "    <tr>\n",
       "      <th>4</th>\n",
       "      <td>44</td>\n",
       "      <td>0.0</td>\n",
       "      <td>0.0</td>\n",
       "      <td>9.0</td>\n",
       "      <td>16.0</td>\n",
       "      <td>16.0</td>\n",
       "      <td>16.0</td>\n",
       "      <td>5.0</td>\n",
       "      <td>0.0</td>\n",
       "      <td>0.0</td>\n",
       "      <td>...</td>\n",
       "      <td>0.0</td>\n",
       "      <td>0.0</td>\n",
       "      <td>0.0</td>\n",
       "      <td>0.0</td>\n",
       "      <td>13.0</td>\n",
       "      <td>10.0</td>\n",
       "      <td>0.0</td>\n",
       "      <td>0.0</td>\n",
       "      <td>0.0</td>\n",
       "      <td>0.0</td>\n",
       "    </tr>\n",
       "  </tbody>\n",
       "</table>\n",
       "<p>5 rows × 65 columns</p>\n",
       "</div>"
      ],
      "text/plain": [
       "   index    0    1     2     3     4     5     6    7    8  ...    54   55  \\\n",
       "0     23  0.0  1.0   8.0  12.0  15.0  14.0   4.0  0.0  0.0  ...   0.0  0.0   \n",
       "1     29  0.0  0.0   9.0  13.0   7.0   0.0   0.0  0.0  0.0  ...  16.0  2.0   \n",
       "2     30  0.0  0.0  10.0  14.0  11.0   3.0   0.0  0.0  0.0  ...   0.0  0.0   \n",
       "3     32  0.0  2.0  13.0  16.0  16.0  16.0  11.0  0.0  0.0  ...   0.0  0.0   \n",
       "4     44  0.0  0.0   9.0  16.0  16.0  16.0   5.0  0.0  0.0  ...   0.0  0.0   \n",
       "\n",
       "    56   57    58    59    60    61    62   63  \n",
       "0  0.0  0.0  14.0  15.0  11.0   2.0   0.0  0.0  \n",
       "1  0.0  0.0   7.0  12.0  12.0  12.0  11.0  0.0  \n",
       "2  0.0  0.0  11.0  16.0  12.0   3.0   0.0  0.0  \n",
       "3  0.0  2.0  16.0  15.0   8.0   0.0   0.0  0.0  \n",
       "4  0.0  0.0  13.0  10.0   0.0   0.0   0.0  0.0  \n",
       "\n",
       "[5 rows x 65 columns]"
      ]
     },
     "execution_count": 5,
     "metadata": {},
     "output_type": "execute_result"
    }
   ],
   "source": [
    "test.head()"
   ]
  },
  {
   "cell_type": "code",
   "execution_count": 6,
   "id": "4b71aa54",
   "metadata": {
    "execution": {
     "iopub.execute_input": "2022-05-03T02:24:28.330002Z",
     "iopub.status.busy": "2022-05-03T02:24:28.329714Z",
     "iopub.status.idle": "2022-05-03T02:24:28.337841Z",
     "shell.execute_reply": "2022-05-03T02:24:28.337104Z"
    },
    "papermill": {
     "duration": 0.024454,
     "end_time": "2022-05-03T02:24:28.339801",
     "exception": false,
     "start_time": "2022-05-03T02:24:28.315347",
     "status": "completed"
    },
    "tags": []
   },
   "outputs": [
    {
     "data": {
      "text/html": [
       "<div>\n",
       "<style scoped>\n",
       "    .dataframe tbody tr th:only-of-type {\n",
       "        vertical-align: middle;\n",
       "    }\n",
       "\n",
       "    .dataframe tbody tr th {\n",
       "        vertical-align: top;\n",
       "    }\n",
       "\n",
       "    .dataframe thead th {\n",
       "        text-align: right;\n",
       "    }\n",
       "</style>\n",
       "<table border=\"1\" class=\"dataframe\">\n",
       "  <thead>\n",
       "    <tr style=\"text-align: right;\">\n",
       "      <th></th>\n",
       "      <th>index</th>\n",
       "      <th>label</th>\n",
       "    </tr>\n",
       "  </thead>\n",
       "  <tbody>\n",
       "    <tr>\n",
       "      <th>0</th>\n",
       "      <td>23</td>\n",
       "      <td>NaN</td>\n",
       "    </tr>\n",
       "    <tr>\n",
       "      <th>1</th>\n",
       "      <td>29</td>\n",
       "      <td>NaN</td>\n",
       "    </tr>\n",
       "    <tr>\n",
       "      <th>2</th>\n",
       "      <td>30</td>\n",
       "      <td>NaN</td>\n",
       "    </tr>\n",
       "    <tr>\n",
       "      <th>3</th>\n",
       "      <td>32</td>\n",
       "      <td>NaN</td>\n",
       "    </tr>\n",
       "    <tr>\n",
       "      <th>4</th>\n",
       "      <td>44</td>\n",
       "      <td>NaN</td>\n",
       "    </tr>\n",
       "  </tbody>\n",
       "</table>\n",
       "</div>"
      ],
      "text/plain": [
       "   index  label\n",
       "0     23    NaN\n",
       "1     29    NaN\n",
       "2     30    NaN\n",
       "3     32    NaN\n",
       "4     44    NaN"
      ]
     },
     "execution_count": 6,
     "metadata": {},
     "output_type": "execute_result"
    }
   ],
   "source": [
    "submit.head()"
   ]
  },
  {
   "cell_type": "code",
   "execution_count": 7,
   "id": "957db45b",
   "metadata": {
    "execution": {
     "iopub.execute_input": "2022-05-03T02:24:28.368828Z",
     "iopub.status.busy": "2022-05-03T02:24:28.368073Z",
     "iopub.status.idle": "2022-05-03T02:24:28.372511Z",
     "shell.execute_reply": "2022-05-03T02:24:28.371991Z"
    },
    "papermill": {
     "duration": 0.021196,
     "end_time": "2022-05-03T02:24:28.374640",
     "exception": false,
     "start_time": "2022-05-03T02:24:28.353444",
     "status": "completed"
    },
    "tags": []
   },
   "outputs": [
    {
     "name": "stdout",
     "output_type": "stream",
     "text": [
      "(1437, 66) (360, 65) (360, 2)\n"
     ]
    }
   ],
   "source": [
    "print(train.shape, test.shape, submit.shape)"
   ]
  },
  {
   "cell_type": "code",
   "execution_count": 8,
   "id": "42c33a7e",
   "metadata": {
    "execution": {
     "iopub.execute_input": "2022-05-03T02:24:28.405114Z",
     "iopub.status.busy": "2022-05-03T02:24:28.404582Z",
     "iopub.status.idle": "2022-05-03T02:24:28.449431Z",
     "shell.execute_reply": "2022-05-03T02:24:28.448375Z"
    },
    "papermill": {
     "duration": 0.061738,
     "end_time": "2022-05-03T02:24:28.451531",
     "exception": false,
     "start_time": "2022-05-03T02:24:28.389793",
     "status": "completed"
    },
    "tags": []
   },
   "outputs": [
    {
     "name": "stdout",
     "output_type": "stream",
     "text": [
      "[   0    1    2 ... 1794 1795 1796]\n",
      "[0]\n",
      "[0 2 5 6 3 1 4 7 8]\n",
      "[ 5  0  7 12  9 11  1 10  6  3  8  2 13 15  4 14 16]\n",
      "[13 12  4 15  1 10  8 14  9  0  7  2 16 11  5  6  3]\n",
      "[ 9 13 15 11  0  8 14  1 16  4  5 12 10  2  6  7  3]\n",
      "[ 1  5 12  0 16 11 13  9 10  7  2  3 14  8  6  4 15]\n",
      "[ 0 15  1  3  2  4  6  8  5 10  7 11 16  9 14 12 13]\n",
      "[ 0  1 10 11  2  7  6 13  5 12  4  9 14  8  3 15]\n",
      "[0 1 2]\n",
      "[ 0  8  2  4 11  3  1  5  7  6  9 12 10 13 14 16 15]\n",
      "[13  0  3 14  5  7 12 16 11 15  1  9  8 10  6  4  2]\n",
      "[15 11 16  6  7 14  5  8 12 10  4 13  2  9  3  1  0]\n",
      "[10 16 15  8  4 14  7  9 13 12 11  6  3  5  0  1  2]\n",
      "[15  9 14  4  0 11 12 13 16  1  7  2  6  5  3 10  8]\n",
      "[ 5  0 12  6  2  8  1 11  3  7  4  9 10 15 16 14 13]\n",
      "[ 0  3  5  8  9  1  6  7 12 10  2  4 11]\n",
      "[0 1 2]\n",
      "[ 3  0  2  8  5  4  1  6  9 14  7 10 12 11 16 15 13]\n",
      "[15  3  8  1 13  0  9 16 10 14  4  5  7  6 11  2 12]\n",
      "[ 2 15 13 16  0 10 12 14  1  6 11  9  8  4  7  3  5]\n",
      "[ 0 16  8 13  6 15  3 10 12 14  1  7  2 11  5  9  4]\n",
      "[11  6 16  0  2 10 13 15 14  9 12  3  8  4  5  7  1]\n",
      "[ 8  0  2  1  4  9  3 11 10 12  7  5  6 16 14 15 13]\n",
      "[0 1 2 3 5 4 8]\n",
      "[0 1]\n",
      "[ 4  7  0  1  2  8  5  3  6 10 15 11 12  9 13]\n",
      "[12 15  1  2  7 11 14  8  3 16 10  0  6 13  9  4  5]\n",
      "[ 0 16  6 15 13  8  1  4 11  7  5 12  9  2 10 14  3]\n",
      "[ 0 16 15 11 12 14  1  2 10  5  7  4 13  9  8  6  3]\n",
      "[ 8  2 11  1  9  7  0 15 14 12 16 10 13  5  3  6  4]\n",
      "[ 8  0  6  2  5 10  1  3  4  9  7 11 15 12 14 13]\n",
      "[0 1]\n",
      "[0]\n",
      "[ 5  0  1  2  4  3  9  6  8 12 10  7 11 13 14]\n",
      "[ 8  1  0 16 15 11  4 13 12  2  6  7  3 14 10  5  9]\n",
      "[ 0 16 13  1 10  4 12 15 14  2  6  9  5  3 11  8  7]\n",
      "[ 0 16 15 12  7  9 14  4 11  5 13  8 10  6  3  1  2]\n",
      "[ 9  3  1 12 16  2  4 15  8 11  0 13 14  6  7 10  5]\n",
      "[ 8  0  1  6  7  2  5 12  3  9 10  4 11 13 14]\n",
      "[0]\n",
      "[0 2 4 1 3]\n",
      "[ 4  0  9  3  1  2  8  6  7  5 11 12 10 14 16 15 13]\n",
      "[11  1 16  0 15 13 10  8 12  3  5 14  9  4  2  6  7]\n",
      "[ 0 16  8  3  5  6 15 12  1  9 10  2 14 11  7 13  4]\n",
      "[ 1 16  5 13  4 10  0 15  2  9 14 12 11  6  8  3  7]\n",
      "[12  6  0 10 16 13  9 11 15 14  3  8  5  2  7  1  4]\n",
      "[ 7  0  8  1  9  3  2 11  4 14  6 12 10 16  5 13 15]\n",
      "[0 1 2 4 3 6 5]\n",
      "[0 3 1 8]\n",
      "[ 2  0  3  1  4  5  6  9  8  7 10 11 16 15 13]\n",
      "[14  1 13  8  0  5  7  9 15 12  3 10  4 16  6  2 11]\n",
      "[ 5 16  4  3 15  1  0 12  6 14 10  2  8  9 13 11  7]\n",
      "[10 16  5 15 12 11  1  3  9 13 14  4  8  6  7  0  2]\n",
      "[12  6 11 14 10 16 15  0  9  2  7  8  4  3 13  1  5]\n",
      "[ 0  5  9  4  8  6 16  1  2  3 12 14  7 11 15 13 10]\n",
      "[ 0  2  4  1  6  5  8  9  3 10  7]\n",
      "[0 1]\n",
      "[0 2 4 1 5 3 9 6 8 7]\n",
      "[ 6  0  7  9  1 13 11  3 12 15  2  8 16 14  4 10  5]\n",
      "[13 11  3  2 16  9  5 12 10  1  7 14  0 15  6  4  8]\n",
      "[10 16 11 13 15  0  8  2  9  5 12  7  3  1  6  4 14]\n",
      "[ 0 10 16  9  4 11  3 13 15 12  8 14  1  2  6  5  7]\n",
      "[ 0  9  3  1 12 11  4 13  7  5  2  6  8 10 15 16 14]\n",
      "[ 0  4  1  2  6  5 15 10  3 11  7  9 16 14 13 12  8]\n",
      "[0 1 2 3 4 5 6 7 8 9]\n"
     ]
    }
   ],
   "source": [
    "for c in train.columns:\n",
    "    print(train[c].unique())"
   ]
  },
  {
   "cell_type": "code",
   "execution_count": 9,
   "id": "ceb26d8c",
   "metadata": {
    "execution": {
     "iopub.execute_input": "2022-05-03T02:24:28.481535Z",
     "iopub.status.busy": "2022-05-03T02:24:28.481232Z",
     "iopub.status.idle": "2022-05-03T02:24:28.529544Z",
     "shell.execute_reply": "2022-05-03T02:24:28.527323Z"
    },
    "papermill": {
     "duration": 0.066118,
     "end_time": "2022-05-03T02:24:28.532028",
     "exception": false,
     "start_time": "2022-05-03T02:24:28.465910",
     "status": "completed"
    },
    "tags": []
   },
   "outputs": [
    {
     "name": "stdout",
     "output_type": "stream",
     "text": [
      "[  23   29   30   32   44   49   51   59   65   67   69   70   71   73\n",
      "   76   78   99  109  111  115  123  124  135  141  162  168  170  173\n",
      "  184  185  188  196  203  210  212  220  233  237  239  240  244  247\n",
      "  250  251  254  259  261  270  271  275  289  297  298  300  303  305\n",
      "  307  316  322  324  331  332  339  342  344  350  351  352  354  365\n",
      "  366  367  371  374  381  382  383  394  398  408  411  413  415  416\n",
      "  422  427  429  432  438  439  450  464  471  478  479  480  481  482\n",
      "  483  486  495  497  514  518  526  527  530  532  534  535  538  543\n",
      "  544  554  555  557  567  570  576  582  584  585  588  589  590  591\n",
      "  599  602  609  610  611  613  617  618  619  631  637  643  650  651\n",
      "  660  669  674  677  679  692  694  701  707  712  730  743  752  754\n",
      "  759  767  774  778  787  792  798  799  809  813  818  824  832  839\n",
      "  841  844  845  849  857  861  865  867  887  888  900  903  909  915\n",
      "  930  931  937  938  940  952  962  964  965  966  968  979  984  993\n",
      "  999 1000 1004 1006 1010 1018 1027 1029 1036 1037 1040 1043 1061 1067\n",
      " 1073 1078 1080 1083 1087 1091 1101 1103 1106 1110 1114 1121 1124 1132\n",
      " 1142 1145 1161 1175 1177 1188 1189 1197 1198 1200 1204 1208 1222 1223\n",
      " 1228 1240 1242 1245 1247 1252 1258 1265 1268 1269 1270 1274 1283 1285\n",
      " 1287 1292 1305 1307 1309 1312 1315 1317 1323 1324 1333 1334 1347 1350\n",
      " 1352 1358 1359 1360 1361 1365 1368 1373 1376 1380 1384 1391 1392 1395\n",
      " 1407 1421 1431 1433 1441 1448 1449 1454 1456 1460 1461 1471 1472 1473\n",
      " 1483 1488 1490 1494 1502 1504 1510 1512 1514 1518 1531 1541 1544 1550\n",
      " 1558 1566 1567 1576 1578 1582 1586 1592 1596 1604 1607 1616 1618 1629\n",
      " 1630 1633 1634 1654 1656 1657 1659 1664 1669 1671 1676 1678 1682 1684\n",
      " 1691 1700 1706 1716 1719 1722 1726 1729 1730 1731 1732 1738 1740 1742\n",
      " 1743 1744 1751 1762 1773 1774 1784 1785 1786 1790]\n",
      "[0.]\n",
      "[1. 0. 2. 3. 4. 5. 8. 7.]\n",
      "[ 8.  9. 10. 13.  1.  0.  5.  6. 12. 15. 16.  2.  7. 11.  4.  3. 14.]\n",
      "[12. 13. 14. 16. 15.  3.  9.  0. 10.  8.  5.  7. 11.  2.  6.  1.  4.]\n",
      "[15.  7. 11. 16. 13. 10.  0. 14. 12.  4.  9.  6.  3.  8.  5.  2.  1.]\n",
      "[14.  0.  3. 16.  1. 10.  6.  7. 12.  8.  4. 13. 11.  9. 15.  5.  2.]\n",
      "[ 4.  0. 11.  5.  1.  2.  3. 13.  7.  9. 10. 14. 15.  6. 12.  8.]\n",
      "[ 0. 10.  3.  1.  2.  8.]\n",
      "[0. 2.]\n",
      "[ 3.  0.  4.  5.  1.  6.  9.  2. 12.  7.  8. 10. 13. 11. 14. 15.]\n",
      "[11. 12. 16. 14.  7.  0.  8.  1.  9.  3.  5. 13. 10.  2. 15.  6.  4.]\n",
      "[ 8. 16. 13. 10. 11.  9. 12. 15.  0. 14.  3.  6.  7.  2.  5.  4.  1.]\n",
      "[ 8. 16.  6.  5. 14. 10. 11.  7.  0. 12.  4. 15.  2.  1. 13.  9.  3.]\n",
      "[12.  2. 14.  4. 16.  8.  0.  9.  6.  3.  5. 15. 11.  7.  1. 13. 10.]\n",
      "[12.  0.  1.  8.  4.  2.  3. 15.  9. 11.  7. 16. 13.  6.  5. 10.]\n",
      "[0. 2. 6. 5. 1.]\n",
      "[0.]\n",
      "[ 0.  4.  6.  8.  7.  1. 10.  5.  2.  3. 11.  9. 13. 12. 14. 15.]\n",
      "[ 0. 12. 16. 13. 15. 10.  7.  2.  5.  1. 14.  6.  3.  4. 11.  9.  8.]\n",
      "[ 0. 13.  2.  7.  9. 12.  5.  3. 16.  8. 10. 14. 11.  6. 15.  1.  4.]\n",
      "[ 2. 16.  0.  3.  7.  1. 14. 15. 12.  8. 13.  4.  6.  9.  5. 10. 11.]\n",
      "[13.  6. 11.  0. 16. 15.  7. 10.  9.  5.  4.  1.  2.  8. 14. 12.  3.]\n",
      "[ 7.  0.  3.  2.  6.  1.  4.  5. 12. 14. 10.  9.  8. 16. 15. 13.]\n",
      "[0. 1. 6. 2. 3. 5.]\n",
      "[0.]\n",
      "[ 0.  8.  9.  3.  7.  1.  4.  5.  2.  6. 14. 11. 12. 13. 10.]\n",
      "[ 0.  6. 16.  8.  9. 15. 11. 13. 12.  2.  4.  1. 14.  3.  5. 10.  7.]\n",
      "[ 2. 16.  0. 11.  1.  3.  7. 15.  8. 13. 10. 12.  5. 14.  9.  6.  4.]\n",
      "[15. 16.  0.  4. 14. 13.  8.  3.  5. 12.  1.  6.  9. 11.  7. 10.  2.]\n",
      "[12. 14. 10.  6. 16. 15.  2.  0.  4.  7.  1.  8.  9. 11. 13.  5.  3.]\n",
      "[ 1.  0.  5. 11.  6.  4.  8.  7.  2.  3. 14. 10.  9. 12. 15. 13.]\n",
      "[0. 1.]\n",
      "[0.]\n",
      "[ 0.  8.  3.  5.  4.  1.  7.  2.  6. 10.  9. 12. 11. 14.]\n",
      "[ 0. 16.  8.  9.  5.  6. 10. 12.  1.  7. 15. 14.  3. 13.  2.  4. 11.]\n",
      "[ 0.  4. 16.  6. 15.  2. 12.  5.  9.  8.  3. 10.  7. 14. 11. 13.  1.]\n",
      "[13.  2.  0. 11. 15. 12.  7. 10. 16.  8. 14.  9.  5.  4.  6.  3.  1.]\n",
      "[ 5. 16. 14. 15. 11.  3.  6.  2.  7.  4.  0. 12. 13. 10.  9.  8.  1.]\n",
      "[ 0.  3.  4.  9.  8.  5.  2.  7. 11. 12.  1. 10.  6. 14. 13.]\n",
      "[0.]\n",
      "[0. 1.]\n",
      "[ 0.  8.  4.  2.  3.  1.  5.  7. 12. 11.  6. 10. 13. 14. 16.  9.]\n",
      "[ 0. 16.  2. 15.  3. 13. 11.  1.  6.  9.  4.  7.  8. 14. 10. 12.  5.]\n",
      "[ 0.  1. 16.  2. 12.  4.  3.  7. 14. 15. 10. 13.  8. 11.  9.  6.  5.]\n",
      "[ 9.  0.  1. 12.  7.  4. 16. 10. 13. 14.  6.  8.  5. 11.  2. 15.  3.]\n",
      "[13.  9. 16. 15.  0.  8. 10. 11.  6.  4.  5.  1. 12.  3. 14.  7.  2.]\n",
      "[ 0. 10.  1. 12.  9.  7.  8.  4.  3.  5. 11.  6.  2. 13. 15. 16. 14.]\n",
      "[0. 1.]\n",
      "[0.]\n",
      "[ 0.  4.  1.  2.  3.  5.  6.  9. 10.  8.]\n",
      "[ 7.  3. 16.  4.  8.  9. 13. 15.  1.  0.  2. 14.  6. 12. 10.  5. 11.]\n",
      "[ 8.  7.  1. 13. 16. 15.  4. 14.  2.  3. 12.  9.  6.  0. 11. 10.  5.]\n",
      "[14. 12. 11. 16.  1. 13. 15. 10.  5.  4.  2.  7.  0.  8.  9.  6.  3.]\n",
      "[15. 14.  6.  0. 16.  9. 10.  1.  8.  4. 13.  2. 11.  7. 12.  5.  3.]\n",
      "[ 0. 16.  6.  3.  1. 14. 10.  8.  2.  4. 12. 13. 15.  5. 11.  7.  9.]\n",
      "[ 0.  2.  3.  1.  6.  7.  5. 13.  4. 10.]\n",
      "[0.]\n",
      "[0. 2. 3. 1. 4. 9. 7.]\n",
      "[14.  7. 11. 16. 13.  0.  4.  6. 12.  3.  1. 15.  5.  8.  2. 10.  9.]\n",
      "[15. 12. 16. 10. 13.  4.  6. 14. 11.  0.  9.  1.  5.  8.  7.  2.  3.]\n",
      "[11. 12.  8.  0. 14.  9. 15. 16.  1. 13.  3. 10.  2.  7.  6.  4.  5.]\n",
      "[ 2. 12.  3.  0.  8. 14. 10. 11.  5. 16.  7. 15.  1.  6.  9. 13.  4.]\n",
      "[ 0. 11.  7.  9.  3.  4.  2.  5.  1.  6.  8. 15. 16. 12. 13. 10. 14.]\n",
      "[ 0.  1.  7. 12.  4.  8.  6. 11.  3.  9. 14. 15.  2.]\n"
     ]
    }
   ],
   "source": [
    "for c in test.columns:\n",
    "    print(test[c].unique())"
   ]
  },
  {
   "cell_type": "code",
   "execution_count": 10,
   "id": "978ea23d",
   "metadata": {
    "execution": {
     "iopub.execute_input": "2022-05-03T02:24:28.563207Z",
     "iopub.status.busy": "2022-05-03T02:24:28.562927Z",
     "iopub.status.idle": "2022-05-03T02:24:28.569255Z",
     "shell.execute_reply": "2022-05-03T02:24:28.568378Z"
    },
    "papermill": {
     "duration": 0.023931,
     "end_time": "2022-05-03T02:24:28.571083",
     "exception": false,
     "start_time": "2022-05-03T02:24:28.547152",
     "status": "completed"
    },
    "tags": []
   },
   "outputs": [],
   "source": [
    "X_train=train.drop(['index','label'],axis=1)\n",
    "y_train=train['label']\n",
    "X_test=test.drop(['index'],axis=1)"
   ]
  },
  {
   "cell_type": "code",
   "execution_count": 11,
   "id": "3a70d8b7",
   "metadata": {
    "execution": {
     "iopub.execute_input": "2022-05-03T02:24:28.604667Z",
     "iopub.status.busy": "2022-05-03T02:24:28.604179Z",
     "iopub.status.idle": "2022-05-03T02:24:28.609126Z",
     "shell.execute_reply": "2022-05-03T02:24:28.608288Z"
    },
    "papermill": {
     "duration": 0.02338,
     "end_time": "2022-05-03T02:24:28.611729",
     "exception": false,
     "start_time": "2022-05-03T02:24:28.588349",
     "status": "completed"
    },
    "tags": []
   },
   "outputs": [
    {
     "name": "stdout",
     "output_type": "stream",
     "text": [
      "(1437, 64) (1437,) (360, 64)\n"
     ]
    }
   ],
   "source": [
    "print(X_train.shape, y_train.shape ,X_test.shape)"
   ]
  },
  {
   "cell_type": "code",
   "execution_count": 12,
   "id": "7048f57a",
   "metadata": {
    "execution": {
     "iopub.execute_input": "2022-05-03T02:24:28.643537Z",
     "iopub.status.busy": "2022-05-03T02:24:28.643036Z",
     "iopub.status.idle": "2022-05-03T02:24:29.764532Z",
     "shell.execute_reply": "2022-05-03T02:24:29.763562Z"
    },
    "papermill": {
     "duration": 1.139758,
     "end_time": "2022-05-03T02:24:29.766539",
     "exception": false,
     "start_time": "2022-05-03T02:24:28.626781",
     "status": "completed"
    },
    "tags": []
   },
   "outputs": [
    {
     "data": {
      "text/plain": [
       "KNeighborsClassifier()"
      ]
     },
     "execution_count": 12,
     "metadata": {},
     "output_type": "execute_result"
    }
   ],
   "source": [
    "from sklearn.neighbors import KNeighborsClassifier\n",
    "neigh = KNeighborsClassifier()\n",
    "neigh.fit(X_train,y_train)"
   ]
  },
  {
   "cell_type": "code",
   "execution_count": 13,
   "id": "acaeca48",
   "metadata": {
    "execution": {
     "iopub.execute_input": "2022-05-03T02:24:29.803047Z",
     "iopub.status.busy": "2022-05-03T02:24:29.802188Z",
     "iopub.status.idle": "2022-05-03T02:24:29.868393Z",
     "shell.execute_reply": "2022-05-03T02:24:29.867088Z"
    },
    "papermill": {
     "duration": 0.091292,
     "end_time": "2022-05-03T02:24:29.873595",
     "exception": false,
     "start_time": "2022-05-03T02:24:29.782303",
     "status": "completed"
    },
    "tags": []
   },
   "outputs": [],
   "source": [
    "y_test_pred_knnclf=neigh.predict(X_test)"
   ]
  },
  {
   "cell_type": "code",
   "execution_count": 14,
   "id": "c7dc2b84",
   "metadata": {
    "execution": {
     "iopub.execute_input": "2022-05-03T02:24:29.920018Z",
     "iopub.status.busy": "2022-05-03T02:24:29.919475Z",
     "iopub.status.idle": "2022-05-03T02:24:29.930649Z",
     "shell.execute_reply": "2022-05-03T02:24:29.929506Z"
    },
    "papermill": {
     "duration": 0.039905,
     "end_time": "2022-05-03T02:24:29.933806",
     "exception": false,
     "start_time": "2022-05-03T02:24:29.893901",
     "status": "completed"
    },
    "tags": []
   },
   "outputs": [],
   "source": [
    "submit['label']=y_test_pred_knnclf\n",
    "submit.to_csv('submit.csv',index=False) "
   ]
  },
  {
   "cell_type": "code",
   "execution_count": null,
   "id": "f67c99c9",
   "metadata": {
    "papermill": {
     "duration": 0.015706,
     "end_time": "2022-05-03T02:24:29.970285",
     "exception": false,
     "start_time": "2022-05-03T02:24:29.954579",
     "status": "completed"
    },
    "tags": []
   },
   "outputs": [],
   "source": []
  }
 ],
 "metadata": {
  "kernelspec": {
   "display_name": "Python 3",
   "language": "python",
   "name": "python3"
  },
  "language_info": {
   "codemirror_mode": {
    "name": "ipython",
    "version": 3
   },
   "file_extension": ".py",
   "mimetype": "text/x-python",
   "name": "python",
   "nbconvert_exporter": "python",
   "pygments_lexer": "ipython3",
   "version": "3.7.12"
  },
  "papermill": {
   "default_parameters": {},
   "duration": 10.922916,
   "end_time": "2022-05-03T02:24:30.606254",
   "environment_variables": {},
   "exception": null,
   "input_path": "__notebook__.ipynb",
   "output_path": "__notebook__.ipynb",
   "parameters": {},
   "start_time": "2022-05-03T02:24:19.683338",
   "version": "2.3.4"
  }
 },
 "nbformat": 4,
 "nbformat_minor": 5
}
